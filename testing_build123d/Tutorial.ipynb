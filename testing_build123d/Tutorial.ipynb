{
 "cells": [
  {
   "cell_type": "code",
   "execution_count": 1,
   "id": "f42c204b-d409-49d3-8616-aee734a18edf",
   "metadata": {},
   "outputs": [
    {
     "name": "stdout",
     "output_type": "stream",
     "text": [
      "Overwriting auto display for cadquery Workplane and Shape\n"
     ]
    }
   ],
   "source": [
    "from jupyter_cadquery import show, open_viewer, set_defaults\n",
    "import cadquery as cq\n",
    "from build123d import *\n",
    "cv = open_viewer(\"Build123d\", cad_width=770, glass=True)\n",
    "set_defaults(edge_accuracy=0.0001)"
   ]
  },
  {
   "cell_type": "code",
   "execution_count": 2,
   "id": "d34f84ce-a61d-466e-ba2c-95c3e65e7cd4",
   "metadata": {},
   "outputs": [],
   "source": [
    "from build123d import *"
   ]
  },
  {
   "cell_type": "code",
   "execution_count": 3,
   "id": "84ee1a03-9f4b-4393-8354-34952226881d",
   "metadata": {},
   "outputs": [],
   "source": [
    "with BuildPart() as example:\n",
    "    Cylinder(radius=10, height=3)\n",
    "    with BuildSketch(example.faces().sort_by(Axis.Z)[-1]):\n",
    "        RegularPolygon(radius=7, side_count=6)\n",
    "        Circle(radius=4, mode=Mode.SUBTRACT)\n",
    "    extrude(amount=-2, mode=Mode.SUBTRACT)\n",
    "    fillet(\n",
    "        example.edges()\n",
    "        .filter_by(GeomType.CIRCLE)\n",
    "        .sort_by(SortBy.RADIUS)[-2:]\n",
    "        .sort_by(Axis.Z)[-1],\n",
    "        radius=1,\n",
    "    )"
   ]
  },
  {
   "cell_type": "code",
   "execution_count": 4,
   "id": "bc8078a0-60c9-4e1e-939f-5314a9722daf",
   "metadata": {},
   "outputs": [],
   "source": [
    "example"
   ]
  }
 ],
 "metadata": {
  "kernelspec": {
   "display_name": "Python 3 (ipykernel)",
   "language": "python",
   "name": "python3"
  },
  "language_info": {
   "codemirror_mode": {
    "name": "ipython",
    "version": 3
   },
   "file_extension": ".py",
   "mimetype": "text/x-python",
   "name": "python",
   "nbconvert_exporter": "python",
   "pygments_lexer": "ipython3",
   "version": "3.11.3"
  }
 },
 "nbformat": 4,
 "nbformat_minor": 5
}
