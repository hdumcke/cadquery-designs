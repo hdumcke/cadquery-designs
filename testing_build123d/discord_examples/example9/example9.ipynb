{
 "cells": [
  {
   "cell_type": "code",
   "execution_count": 1,
   "id": "37f5e6b4-41e8-471b-a98c-d9ac84912e05",
   "metadata": {},
   "outputs": [
    {
     "name": "stdout",
     "output_type": "stream",
     "text": [
      "Overwriting auto display for cadquery Workplane and Shape\n"
     ]
    }
   ],
   "source": [
    "from jupyter_cadquery import show, open_viewer, set_defaults\n",
    "import cadquery as cq\n",
    "from build123d import *\n",
    "cv = open_viewer(\"Build123d\", cad_width=770, glass=True)\n",
    "set_defaults(edge_accuracy=0.0001)"
   ]
  },
  {
   "cell_type": "code",
   "execution_count": 4,
   "id": "9193722b-d863-4c0b-bd4c-7fc055156a83",
   "metadata": {},
   "outputs": [],
   "source": [
    "a,b = 15.2,17.6\n",
    "LMV = LengthMode.VERTICAL\n",
    "ms = Mode.SUBTRACT\n",
    "\n",
    "with BuildPart() as p:\n",
    "    with BuildSketch(Plane.XZ) as s:\n",
    "        with BuildLine(Plane.XZ) as l:\n",
    "            l1 = Line((0,0),(0,-5))\n",
    "            l2 = RadiusArc(l1@1,l1@1+(-b/2,3),15)\n",
    "            l3 = Line(l2@1,l2@1+(0,2))\n",
    "            l4 = Line(l3@1,l3@1+(-(a-b)/2,0))\n",
    "            l5 = Line(l4@1,l4@1+(0,26))\n",
    "            l6 = PolarLine(l5@1,3.3,60,length_mode=LMV)\n",
    "            l7 = Line(l6@1,(0,(l6@1).Z))\n",
    "            l8 = Line(l7@1,l1@0)\n",
    "        make_face()\n",
    "    revolve()\n",
    "    with BuildSketch(Plane.XY.offset(2)) as s2:\n",
    "        Circle((a)/2-2)\n",
    "        Rectangle(a/2,15,align=(Align.CENTER,Align.MAX))\n",
    "    extrude(amount=20,mode=ms)\n",
    "    with BuildSketch(p.part.faces().sort_by(Axis.Z)[-1]) as s3:\n",
    "        Circle(3.2/2)\n",
    "        with BuildLine() as l:\n",
    "            m1 = PolarLine((-.5,0),-15,-90+15)\n",
    "            m2 = PolarLine((.5,0),-15,-90-15)\n",
    "            m3 = Line(m1@1,m2@1)\n",
    "        make_face()\n",
    "    extrude(amount=-10,mode=ms)\n",
    "\n",
    "p"
   ]
  }
 ],
 "metadata": {
  "kernelspec": {
   "display_name": "Python 3 (ipykernel)",
   "language": "python",
   "name": "python3"
  },
  "language_info": {
   "codemirror_mode": {
    "name": "ipython",
    "version": 3
   },
   "file_extension": ".py",
   "mimetype": "text/x-python",
   "name": "python",
   "nbconvert_exporter": "python",
   "pygments_lexer": "ipython3",
   "version": "3.11.3"
  }
 },
 "nbformat": 4,
 "nbformat_minor": 5
}
