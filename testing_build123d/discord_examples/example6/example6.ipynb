{
 "cells": [
  {
   "cell_type": "code",
   "execution_count": 1,
   "id": "b2e7c0ee-f450-4635-8bf9-e67024473804",
   "metadata": {},
   "outputs": [
    {
     "name": "stdout",
     "output_type": "stream",
     "text": [
      "Overwriting auto display for cadquery Workplane and Shape\n"
     ]
    }
   ],
   "source": [
    "from jupyter_cadquery import show, open_viewer, set_defaults\n",
    "import cadquery as cq\n",
    "from build123d import *\n",
    "cv = open_viewer(\"Build123d\", cad_width=770, glass=True)\n",
    "set_defaults(edge_accuracy=0.0001)"
   ]
  },
  {
   "cell_type": "code",
   "execution_count": 2,
   "id": "0a6b141b-4bf7-4c16-8dca-405cb261ea63",
   "metadata": {},
   "outputs": [],
   "source": [
    "densa = 7800/1e6 #carbon steel density g/mm^3\n",
    "densb = 2700/1e6 #aluminum alloy\n",
    "densc = 1020/1e6 #ABS\n",
    "ms = Mode.SUBTRACT\n",
    "LMH = LengthMode.HORIZONTAL\n",
    "LMV = LengthMode.VERTICAL"
   ]
  },
  {
   "cell_type": "code",
   "execution_count": 5,
   "id": "0b42e7b0-2521-43fe-afdb-967bdb60c428",
   "metadata": {},
   "outputs": [],
   "source": [
    "with BuildPart() as p2:\n",
    "    Sphere(3)\n",
    "    split(bisect_by=Plane.XZ)\n",
    "\n",
    "with BuildPart() as p:\n",
    "    with BuildLine() as l:\n",
    "        l1 = JernArc((0,0),(0,1),27-3,180)\n",
    "        l2 = Line(l1@1,l1@1+(0,-55))\n",
    "        l3 = JernArc(l2@1,l2%1,19-3,90-25)\n",
    "        l4 = PolarLine(l3@1,217,-25,length_mode=LMH) \n",
    "        #^DONT KNOW LENGTH AB INITIO\n",
    "        l5 = JernArc(l4@1,l4%1,21-3,-180+25)\n",
    "        l6 = Line(l5@1,l5@1+(-430+2*21,0))\n",
    "        l7 = JernArc(l6@1,l6%1,21-3,-180+26) \n",
    "        l8 = IntersectingLine(l7@1,l7%1,other=l4,mode=Mode.PRIVATE)\n",
    "        l9 = Line(l8@0,l8@0+l8%1*(l8.length-15))\n",
    "    with BuildSketch(Plane.XZ) as s:\n",
    "        Circle(6/2)\n",
    "    sweep(is_frenet=True)\n",
    "    add(p2.part)\n",
    "    extrude(p.part.faces()[-1],until=Until.NEXT)\n",
    "    pln = Plane(origin=l6@.5+(0,110-3,0),z_dir=(0,1,0))\n",
    "    with BuildSketch(pln) as s2:\n",
    "        Rectangle(2,95)\n",
    "    zz=extrude(until=Until.NEXT)\n",
    "\n",
    "p   "
   ]
  },
  {
   "cell_type": "code",
   "execution_count": 7,
   "id": "f6a78eaa-da94-4dc5-9eba-5adacd2ad56a",
   "metadata": {},
   "outputs": [],
   "source": [
    "with BuildPart() as p:\n",
    "    with BuildLine() as l:\n",
    "        l1 = JernArc((0,0),(0,1),27-3,180)\n",
    "        l2 = Line(l1@1,l1@1+(0,-55))\n",
    "        l3 = JernArc(l2@1,l2%1,19-3,90-25)\n",
    "        l4 = PolarLine(l3@1,217,-25,length_mode=LMH) \n",
    "        #^DONT KNOW LENGTH AB INITIO\n",
    "        l5 = JernArc(l4@1,l4%1,21-3,-180+25)\n",
    "        l6 = Line(l5@1,l5@1+(-430+2*21,0))\n",
    "        l7 = JernArc(l6@1,l6%1,21-3,-180+26) \n",
    "        l8 = IntersectingLine(l7@1,l7%1,other=l4,mode=Mode.PRIVATE)\n",
    "        l9 = Line(l8@0,l8@0+l8%1*(l8.length-15))\n",
    "    with BuildSketch(Plane.XZ) as s:\n",
    "        Circle(6/2)\n",
    "    sweep(is_frenet=True)\n",
    "\n",
    "p"
   ]
  }
 ],
 "metadata": {
  "kernelspec": {
   "display_name": "Python 3 (ipykernel)",
   "language": "python",
   "name": "python3"
  },
  "language_info": {
   "codemirror_mode": {
    "name": "ipython",
    "version": 3
   },
   "file_extension": ".py",
   "mimetype": "text/x-python",
   "name": "python",
   "nbconvert_exporter": "python",
   "pygments_lexer": "ipython3",
   "version": "3.11.3"
  }
 },
 "nbformat": 4,
 "nbformat_minor": 5
}
