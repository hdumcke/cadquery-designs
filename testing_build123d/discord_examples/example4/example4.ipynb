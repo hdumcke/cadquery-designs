{
 "cells": [
  {
   "cell_type": "code",
   "execution_count": 2,
   "id": "c26f92d1-3638-4b82-ae59-e987c4dd51b1",
   "metadata": {},
   "outputs": [
    {
     "name": "stdout",
     "output_type": "stream",
     "text": [
      "Overwriting auto display for cadquery Workplane and Shape\n"
     ]
    }
   ],
   "source": [
    "from jupyter_cadquery import show, open_viewer, set_defaults\n",
    "import cadquery as cq\n",
    "from build123d import *\n",
    "cv = open_viewer(\"Build123d\", cad_width=770, glass=True)\n",
    "set_defaults(edge_accuracy=0.0001)"
   ]
  },
  {
   "cell_type": "code",
   "execution_count": 3,
   "id": "9563b555-2358-4146-ad36-cb4bfd82ebe9",
   "metadata": {},
   "outputs": [],
   "source": [
    "ms = Mode.SUBTRACT\n",
    "\n",
    "with BuildPart() as p:\n",
    "    with BuildSketch() as s:\n",
    "        RectangleRounded(2.5*IN,2.5*IN,.5*IN)\n",
    "        offset(amount=-.25*IN,mode=ms)\n",
    "    extrude(amount=1.9*IN)\n",
    "\n",
    "    with BuildSketch() as s2:\n",
    "        with Locations((2.5*IN/2,0)):\n",
    "            Rectangle(.75*IN,1.25*IN,align=(Align.MIN,Align.CENTER))\n",
    "        fillet(s2.vertices().group_by(Axis.X)[-1],.25*IN)\n",
    "    extrude(amount=.25*IN)\n",
    "\n",
    "    with Locations((3.25*IN/2,0,.25*IN)):\n",
    "        CounterBoreHole(.25*IN/2,.5*IN/2,.125*IN)\n",
    "    mirror(about=Plane.YZ)\n",
    "    add(p.part,rotation=(0,0,90))\n",
    "    mirror(about=Plane.XZ)\n",
    "    \n",
    "p   "
   ]
  }
 ],
 "metadata": {
  "kernelspec": {
   "display_name": "Python 3 (ipykernel)",
   "language": "python",
   "name": "python3"
  },
  "language_info": {
   "codemirror_mode": {
    "name": "ipython",
    "version": 3
   },
   "file_extension": ".py",
   "mimetype": "text/x-python",
   "name": "python",
   "nbconvert_exporter": "python",
   "pygments_lexer": "ipython3",
   "version": "3.11.3"
  }
 },
 "nbformat": 4,
 "nbformat_minor": 5
}
