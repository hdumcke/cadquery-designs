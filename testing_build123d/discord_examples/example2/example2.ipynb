{
 "cells": [
  {
   "cell_type": "code",
   "execution_count": 1,
   "id": "9bf96705-8bba-4601-b858-ab78ef4a0efb",
   "metadata": {},
   "outputs": [
    {
     "name": "stdout",
     "output_type": "stream",
     "text": [
      "Overwriting auto display for cadquery Workplane and Shape\n"
     ]
    }
   ],
   "source": [
    "from jupyter_cadquery import show, open_viewer, set_defaults\n",
    "import cadquery as cq\n",
    "from build123d import *\n",
    "cv = open_viewer(\"Build123d\", cad_width=770, glass=True)\n",
    "set_defaults(edge_accuracy=0.0001)"
   ]
  },
  {
   "cell_type": "code",
   "execution_count": 2,
   "id": "09a02d41-b25d-4bb1-aa1e-40979c038688",
   "metadata": {},
   "outputs": [],
   "source": [
    "densa = 7800/1e6 #carbon steel density g/mm^3\n",
    "densb = 2700/1e6 #aluminum alloy\n",
    "densc = 1020/1e6 #ABS\n",
    "ms = Mode.SUBTRACT\n",
    "# %%\n",
    "\n",
    "with BuildPart() as p:\n",
    "    with BuildSketch(Plane.XZ) as s2:\n",
    "        SlotOverall((315-85-60)*2,160,rotation=90)\n",
    "        split(bisect_by=Plane.XZ,keep=Keep.BOTTOM)\n",
    "    extrude(amount=140/2,both=True)\n",
    "    with BuildSketch(Plane.YZ) as s3:\n",
    "        RectangleRounded(140,170*2,20,align=(Align.CENTER,Align.MIN))\n",
    "    extrude(amount=160,both=True,mode=Mode.INTERSECT)\n",
    "    with BuildSketch(Plane.YZ) as s4:\n",
    "        with Locations((0,15)):\n",
    "            RectangleRounded(140-30,170*2,5,align=(Align.CENTER,Align.MIN))\n",
    "    extrude(amount=160,both=True,mode=ms)\n",
    "    with BuildSketch(Plane.XZ) as s:\n",
    "        SlotCenterToCenter(85*2,120,rotation=90)\n",
    "        split(bisect_by=Plane.XZ)\n",
    "    extrude(amount=80/2,both=True)\n",
    "    with BuildSketch(Plane.XZ) as s5:\n",
    "        with Locations((0,170/2)):\n",
    "            Circle(60/2)\n",
    "    extrude(amount=200,both=True,mode=ms)\n",
    "    with BuildSketch(Plane.XZ) as s6:\n",
    "        with Locations((0,-85)):\n",
    "            Circle(60/2)\n",
    "    extrude(amount=50,both=True)\n",
    "    with BuildSketch(Plane.XZ) as s7:\n",
    "        with Locations((0,-85)):\n",
    "            Circle(40/2)\n",
    "    extrude(amount=50,both=True,mode=ms)\n",
    "    \n",
    "p"
   ]
  }
 ],
 "metadata": {
  "kernelspec": {
   "display_name": "Python 3 (ipykernel)",
   "language": "python",
   "name": "python3"
  },
  "language_info": {
   "codemirror_mode": {
    "name": "ipython",
    "version": 3
   },
   "file_extension": ".py",
   "mimetype": "text/x-python",
   "name": "python",
   "nbconvert_exporter": "python",
   "pygments_lexer": "ipython3",
   "version": "3.11.3"
  }
 },
 "nbformat": 4,
 "nbformat_minor": 5
}
