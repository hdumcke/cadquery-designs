{
 "cells": [
  {
   "cell_type": "code",
   "execution_count": 1,
   "id": "c26f92d1-3638-4b82-ae59-e987c4dd51b1",
   "metadata": {},
   "outputs": [
    {
     "name": "stdout",
     "output_type": "stream",
     "text": [
      "Overwriting auto display for cadquery Workplane and Shape\n"
     ]
    }
   ],
   "source": [
    "from jupyter_cadquery import show, open_viewer, set_defaults\n",
    "import cadquery as cq\n",
    "from build123d import *\n",
    "cv = open_viewer(\"Build123d\", cad_width=770, glass=True)\n",
    "set_defaults(edge_accuracy=0.0001)"
   ]
  },
  {
   "cell_type": "code",
   "execution_count": 2,
   "id": "9563b555-2358-4146-ad36-cb4bfd82ebe9",
   "metadata": {},
   "outputs": [],
   "source": [
    "ms = Mode.SUBTRACT\n",
    "\n",
    "with BuildPart() as p:\n",
    "    with BuildSketch() as s:\n",
    "        RectangleRounded(4,3,.375)\n",
    "    extrude(amount=-.5)\n",
    "    with GridLocations(3,2,2,2):\n",
    "        CounterBoreHole(.375/2,.75/2,.125)\n",
    "    pln = Plane.XY.rotated((0,75,0)).rotated((0,0,-30))\n",
    "    with BuildSketch(pln) as s2:\n",
    "        with Locations((-2,0,0)):\n",
    "            Circle(2.5/2)\n",
    "        Rectangle(.01,2.5)\n",
    "        make_hull()\n",
    "    extrude(amount=-.375)\n",
    "    with Locations(pln):\n",
    "        with Locations((-2,0,0)):\n",
    "            CounterBoreHole(.75/2,1.5/2,.125)    \n",
    "p   "
   ]
  }
 ],
 "metadata": {
  "kernelspec": {
   "display_name": "Python 3 (ipykernel)",
   "language": "python",
   "name": "python3"
  },
  "language_info": {
   "codemirror_mode": {
    "name": "ipython",
    "version": 3
   },
   "file_extension": ".py",
   "mimetype": "text/x-python",
   "name": "python",
   "nbconvert_exporter": "python",
   "pygments_lexer": "ipython3",
   "version": "3.11.3"
  }
 },
 "nbformat": 4,
 "nbformat_minor": 5
}
