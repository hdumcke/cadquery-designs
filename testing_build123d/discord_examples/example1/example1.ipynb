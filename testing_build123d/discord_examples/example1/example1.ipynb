{
 "cells": [
  {
   "cell_type": "code",
   "execution_count": 1,
   "id": "15908f13-11a7-484a-a65c-f0722a290eb3",
   "metadata": {},
   "outputs": [
    {
     "name": "stdout",
     "output_type": "stream",
     "text": [
      "Overwriting auto display for cadquery Workplane and Shape\n"
     ]
    }
   ],
   "source": [
    "from jupyter_cadquery import show, open_viewer, set_defaults\n",
    "import cadquery as cq\n",
    "from build123d import *\n",
    "cv = open_viewer(\"Build123d\", cad_width=770, glass=True)\n",
    "set_defaults(edge_accuracy=0.0001)"
   ]
  },
  {
   "cell_type": "code",
   "execution_count": 2,
   "id": "2185a3bd-6f38-4ee4-beec-7a0448c4dfff",
   "metadata": {},
   "outputs": [],
   "source": [
    "densa = 7800/1e6 #carbon steel density g/mm^3\n",
    "densb = 2700/1e6 #aluminum alloy\n",
    "densc = 1020/1e6 #ABS\n",
    "ms = Mode.SUBTRACT\n",
    "\n",
    "with BuildPart() as p:\n",
    "    Box(127, 67, 70)\n",
    "    fillet(p.edges().filter_by(Axis.Y), 13)\n",
    "    p2 = Box(107, 67, 50, mode=ms)\n",
    "    fillet(p2.edges().filter_by(Axis.Y), 3)\n",
    "    p3 = Box(51, 67, 70, align=(Align.CENTER, Align.CENTER, Align.MIN), mode=ms)\n",
    "    fillet(p.edges().filter_by(Axis.Z).sort_by()[-4:], 11)\n",
    "\n",
    "    with BuildSketch(p.faces().filter_by(Axis.Z).sort_by()[1]) as sk:\n",
    "        Rectangle(107, 14)\n",
    "        Circle(radius=41/2)\n",
    "        fillet(sk.vertices(Select.LAST), 8)\n",
    "    extrude(amount=50-18)\n",
    "    fillet(p.edges(Select.LAST).group_by()[0],3)\n",
    "    \n",
    "    with Locations(p.faces(Select.LAST).filter_by(Axis.Z).group_by()[-1][0]) as loc1:\n",
    "        with Locations((0,0,-5)):\n",
    "            CounterSinkHole(radius=11/2, counter_sink_radius=20/2, counter_sink_angle=90)\n",
    "            \n",
    "p            "
   ]
  },
  {
   "cell_type": "code",
   "execution_count": 23,
   "id": "93cf37b5-8c93-4598-b76c-1b913f631f69",
   "metadata": {},
   "outputs": [],
   "source": [
    "with BuildPart() as p:\n",
    "    Box(127, 67, 70)\n",
    "    fillet(p.edges().filter_by(Axis.Y), 13)\n",
    "    p2 = Box(107, 67, 50, mode=ms)\n",
    "    fillet(p2.edges().filter_by(Axis.Y), 3)\n",
    "    p3 = Box(51, 67, 70, align=(Align.CENTER, Align.CENTER, Align.MIN), mode=ms)\n",
    "    fillet(p.edges().filter_by(Axis.Z).sort_by()[-4:], 11)\n",
    "\n",
    "    with BuildSketch(p.faces().filter_by(Axis.Z).sort_by()[1]) as sk:\n",
    "        Rectangle(107, 14)\n",
    "        Circle(radius=41/2)\n",
    "        fillet(sk.vertices(Select.LAST), 8)\n",
    "    extrude(amount=50-18)\n",
    "    fillet(p.edges(Select.LAST).group_by()[0],3)\n",
    "    \n",
    "    with Locations(p.faces(Select.LAST).filter_by(Axis.Z).group_by()[-1][0]) as loc1:\n",
    "        with Locations((0,0,-5)):\n",
    "            CounterSinkHole(radius=11/2, counter_sink_radius=20/2, counter_sink_angle=90)\n",
    "\n",
    "p    "
   ]
  }
 ],
 "metadata": {
  "kernelspec": {
   "display_name": "Python 3 (ipykernel)",
   "language": "python",
   "name": "python3"
  },
  "language_info": {
   "codemirror_mode": {
    "name": "ipython",
    "version": 3
   },
   "file_extension": ".py",
   "mimetype": "text/x-python",
   "name": "python",
   "nbconvert_exporter": "python",
   "pygments_lexer": "ipython3",
   "version": "3.11.3"
  }
 },
 "nbformat": 4,
 "nbformat_minor": 5
}
