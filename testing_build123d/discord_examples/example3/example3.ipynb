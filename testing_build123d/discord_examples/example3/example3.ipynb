{
 "cells": [
  {
   "cell_type": "code",
   "execution_count": 1,
   "id": "c26f92d1-3638-4b82-ae59-e987c4dd51b1",
   "metadata": {},
   "outputs": [
    {
     "name": "stdout",
     "output_type": "stream",
     "text": [
      "Overwriting auto display for cadquery Workplane and Shape\n"
     ]
    }
   ],
   "source": [
    "from jupyter_cadquery import show, open_viewer, set_defaults\n",
    "import cadquery as cq\n",
    "from build123d import *\n",
    "cv = open_viewer(\"Build123d\", cad_width=770, glass=True)\n",
    "set_defaults(edge_accuracy=0.0001)"
   ]
  },
  {
   "cell_type": "code",
   "execution_count": 2,
   "id": "9563b555-2358-4146-ad36-cb4bfd82ebe9",
   "metadata": {},
   "outputs": [],
   "source": [
    "ms = Mode.SUBTRACT\n",
    "\n",
    "with BuildPart() as p2:\n",
    "    with BuildSketch() as s2:\n",
    "        with Locations((80,0)):\n",
    "            Circle(25)\n",
    "        split(bisect_by=Plane.YZ.offset(78-14/2))\n",
    "        with Locations((78,75/2)):\n",
    "            Circle(14)\n",
    "        mirror(about=Plane.XZ)\n",
    "        make_hull()\n",
    "    extrude(amount=15)\n",
    "    with Locations((78,75/2,15),(78,-75/2,15)):\n",
    "        CounterBoreHole(9/2,16/2,5)\n",
    "with BuildPart() as p:\n",
    "    with BuildSketch(Plane.XZ) as s:\n",
    "        with BuildLine(Plane.XZ) as l:\n",
    "            l1 = Line((0,0),(80+25,0))\n",
    "            l2 = Line(l1@1,l1@1+(0,27))\n",
    "            l3 = Line(l1@0,l1@0+(-25,0))\n",
    "            l4 = Line(l3@1,l3@1+(0,70))\n",
    "            l5 = Line(l4@1,l4@1+(50,0))\n",
    "            l6 = PolarLine(l5@1,-32,-90+15,length_mode=LengthMode.VERTICAL)\n",
    "            l7 = JernArc(l6@1,l6%1,15,90-15)\n",
    "            l8 = Line(l7@1,l2@1)\n",
    "        make_face()\n",
    "    extrude(amount=25,both=True)\n",
    "    with BuildSketch() as s3:\n",
    "        with Locations((80/2,0)):\n",
    "            SlotCenterToCenter(80,25*2)\n",
    "    extrude(amount=70,mode=Mode.INTERSECT)\n",
    "    add(p2.part,rotation=(0,0,.1)) #arbitrary rotation to fix errors\n",
    "    with Locations(Plane.XY.offset(70)):\n",
    "        CounterBoreHole(25/2,35/2,10)\n",
    "    with BuildSketch(Plane.XZ) as s4:\n",
    "        with BuildLine(Plane.XZ) as l2:\n",
    "            m6 = PolarLine(l5@1,-32,-90+15,length_mode=LengthMode.VERTICAL)\n",
    "            m7 = JernArc(m6@1,m6%1,15,90-15)\n",
    "            m8 = Line(m6@0,m6@0+(7,0))\n",
    "            m9 = PolarLine(m8@1,-7-6.765,-90+15,length_mode=LengthMode.VERTICAL)\n",
    "            m10 = JernArc(m9@1,m6%1,30,90-15)\n",
    "            m11 = Line(m10@1,(80+25-30,34))\n",
    "            m12 = Line(m11@1,m11@1+(0,-7))\n",
    "            m13 = Line(m12@1,m7@1)\n",
    "        make_face()\n",
    "    extrude(amount=3,both=True)\n",
    "    with BuildSketch() as s5:\n",
    "        Rectangle(50,6,align=(Align.MAX,Align.CENTER))\n",
    "    extrude(amount=70,mode=ms)\n",
    "    \n",
    "p   "
   ]
  }
 ],
 "metadata": {
  "kernelspec": {
   "display_name": "Python 3 (ipykernel)",
   "language": "python",
   "name": "python3"
  },
  "language_info": {
   "codemirror_mode": {
    "name": "ipython",
    "version": 3
   },
   "file_extension": ".py",
   "mimetype": "text/x-python",
   "name": "python",
   "nbconvert_exporter": "python",
   "pygments_lexer": "ipython3",
   "version": "3.11.3"
  }
 },
 "nbformat": 4,
 "nbformat_minor": 5
}
