{
 "cells": [
  {
   "cell_type": "code",
   "execution_count": 1,
   "id": "e1dd6c0a-25b4-4499-892e-35647afadac5",
   "metadata": {},
   "outputs": [
    {
     "name": "stdout",
     "output_type": "stream",
     "text": [
      "Overwriting auto display for cadquery Workplane and Shape\n"
     ]
    }
   ],
   "source": [
    "from jupyter_cadquery import show, open_viewer, set_defaults\n",
    "import cadquery as cq\n",
    "from build123d import *\n",
    "cv = open_viewer(\"Build123d\", cad_width=770, glass=True)\n",
    "set_defaults(edge_accuracy=0.0001)"
   ]
  },
  {
   "cell_type": "code",
   "execution_count": 2,
   "id": "b1a07e33-b002-4c06-938e-3a20fe6e8184",
   "metadata": {},
   "outputs": [],
   "source": [
    "densa = 7800/1e6 #carbon steel density g/mm^3\n",
    "densb = 2700/1e6 #aluminum alloy\n",
    "densc = 1020/1e6 #ABS\n",
    "ms = Mode.SUBTRACT\n",
    "LMH, LMV = LengthMode.HORIZONTAL, LengthMode.VERTICAL\n",
    "\n",
    "with BuildPart() as p:\n",
    "    with BuildSketch(Plane.XZ) as s:\n",
    "        with Locations((0,80)):\n",
    "            Circle(60)\n",
    "        with BuildLine(Plane.XZ) as l:\n",
    "            m1 = Line((0,0),(115/2,0))\n",
    "            m2 = Line(m1@1,m1@1+(0,10))\n",
    "            m3 = PolarLine(m2@1,-115/2,180-20,length_mode=LMH)\n",
    "            m4 = Line(m3@1,m1@0)\n",
    "        make_face()\n",
    "        split(bisect_by=Plane.XZ.offset(-80),keep=Keep.TOP)\n",
    "        vtx = s.vertices().sort_by(Axis.X)[-4]\n",
    "        fillet(vtx,5)\n",
    "        mirror(about=Plane.YZ)\n",
    "    extrude(amount=75/2,both=True)\n",
    "    with BuildSketch(Plane.XZ) as s2:\n",
    "        with Locations((0,80)):\n",
    "            Circle(30/2)\n",
    "    extrude(amount=75,both=True,mode=ms)\n",
    "    with BuildSketch(Plane.XZ) as s3:\n",
    "        with Locations((0,80)):\n",
    "            Circle(55)\n",
    "    extrude(amount=75/2-5,both=True,mode=ms)\n",
    "    newp=Plane(origin=(115/2,0,10)).rotated((0,20,0))\n",
    "    with BuildSketch(newp) as s4:\n",
    "        with Locations((-6-5,0)):\n",
    "            SlotOverall(45,20/2,90)\n",
    "    zz=extrude(amount=-20,mode=Mode.PRIVATE)\n",
    "    zz2 = mirror(zz,about=Plane.YZ,mode=ms)\n",
    "    add(zz,mode=ms)\n",
    "\n",
    "    edgs = p.part.edges().filter_by(Axis.Z).group_by(Axis.X)[-1] + p.part.edges().filter_by(Axis.Z).group_by(Axis.X)[0]\n",
    "    fillet(edgs,20)\n",
    "\n",
    "p"
   ]
  }
 ],
 "metadata": {
  "kernelspec": {
   "display_name": "Python 3 (ipykernel)",
   "language": "python",
   "name": "python3"
  },
  "language_info": {
   "codemirror_mode": {
    "name": "ipython",
    "version": 3
   },
   "file_extension": ".py",
   "mimetype": "text/x-python",
   "name": "python",
   "nbconvert_exporter": "python",
   "pygments_lexer": "ipython3",
   "version": "3.11.3"
  }
 },
 "nbformat": 4,
 "nbformat_minor": 5
}
