{
 "cells": [
  {
   "cell_type": "code",
   "execution_count": 1,
   "id": "e1dd6c0a-25b4-4499-892e-35647afadac5",
   "metadata": {},
   "outputs": [
    {
     "name": "stdout",
     "output_type": "stream",
     "text": [
      "Overwriting auto display for cadquery Workplane and Shape\n"
     ]
    }
   ],
   "source": [
    "from jupyter_cadquery import show, open_viewer, set_defaults\n",
    "import cadquery as cq\n",
    "from build123d import *\n",
    "cv = open_viewer(\"Build123d\", cad_width=770, glass=True)\n",
    "set_defaults(edge_accuracy=0.0001)"
   ]
  },
  {
   "cell_type": "code",
   "execution_count": 4,
   "id": "29303643-5b34-472d-8530-0bce18bc0455",
   "metadata": {},
   "outputs": [],
   "source": [
    "LMH = LengthMode.HORIZONTAL\n",
    "ms = Mode.SUBTRACT\n",
    "\n",
    "with BuildPart() as p2:\n",
    "    with BuildSketch() as s:\n",
    "        with BuildLine() as l:\n",
    "            l1 = Line((50,0),(50,7/2))\n",
    "            l2 = PolarLine(l1@1,40+32,10,length_mode=LMH)\n",
    "            l3 = Line(l2@1,l2@1+(0,-20))\n",
    "            mirror(about=Plane.XZ)\n",
    "        make_face()\n",
    "    extrude(amount=-20)\n",
    "    extrude(to_extrude=s.sketch,amount=-12)\n",
    "\n",
    "    with BuildSketch(Plane.XZ) as s2:\n",
    "        with Locations((244/2,-20)):\n",
    "            Rectangle(32,32,align=(Align.MAX,Align.MIN))\n",
    "            with Locations((-40-32,20)):\n",
    "                Rectangle(.001,.001)\n",
    "        make_hull()\n",
    "        with Locations((244/2,-20)):\n",
    "            with Locations((-12,14)):\n",
    "                Circle(14/2,mode=ms)\n",
    "    extrude(amount=20,both=True,mode=Mode.INTERSECT)\n",
    "    mirror(about=Plane.YZ)\n",
    "\n",
    "with BuildSketch() as s3:\n",
    "    with Locations((-186/2+33,0),(186/2-33,0)):\n",
    "        SlotOverall(190,66,rotation=90)\n",
    "\n",
    "with BuildPart() as p:    \n",
    "    with BuildSketch() as s4:\n",
    "        Rectangle(186-33*2,162)\n",
    "        add(s3.sketch)\n",
    "    extrude(amount=30)\n",
    "\n",
    "    with BuildSketch(Plane.XZ) as s5:\n",
    "        with BuildLine(Plane.XZ) as l2:\n",
    "            m1 = Line((0,0),(186/2,0))\n",
    "            m2 = Line(m1@1,m1@1+(0,16))\n",
    "            m3 = RadiusArc(m2@1,(-186/2,16),-420)\n",
    "            mirror(about=Plane.YZ)\n",
    "        make_face()\n",
    "    extrude(amount=100,both=True,mode=Mode.INTERSECT)\n",
    "\n",
    "    with BuildSketch() as s6:\n",
    "        with GridLocations(186-33*2,190-33*2,2,2):\n",
    "            Circle(30/2)\n",
    "        Circle(69/2)\n",
    "    extrude(amount=40,mode=ms)\n",
    "    add(p2.part)\n",
    "    \n",
    "p    "
   ]
  }
 ],
 "metadata": {
  "kernelspec": {
   "display_name": "Python 3 (ipykernel)",
   "language": "python",
   "name": "python3"
  },
  "language_info": {
   "codemirror_mode": {
    "name": "ipython",
    "version": 3
   },
   "file_extension": ".py",
   "mimetype": "text/x-python",
   "name": "python",
   "nbconvert_exporter": "python",
   "pygments_lexer": "ipython3",
   "version": "3.11.3"
  }
 },
 "nbformat": 4,
 "nbformat_minor": 5
}
