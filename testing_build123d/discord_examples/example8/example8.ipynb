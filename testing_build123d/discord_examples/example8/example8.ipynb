{
 "cells": [
  {
   "cell_type": "code",
   "execution_count": 1,
   "id": "e3719d55-5ec1-4706-b0be-a53ed8be85d9",
   "metadata": {},
   "outputs": [
    {
     "name": "stdout",
     "output_type": "stream",
     "text": [
      "Overwriting auto display for cadquery Workplane and Shape\n"
     ]
    }
   ],
   "source": [
    "from jupyter_cadquery import show, open_viewer, set_defaults\n",
    "import cadquery as cq\n",
    "from build123d import *\n",
    "cv = open_viewer(\"Build123d\", cad_width=770, glass=True)\n",
    "set_defaults(edge_accuracy=0.0001)"
   ]
  },
  {
   "cell_type": "code",
   "execution_count": 2,
   "id": "34d44dd9-a40b-4e07-961d-eb6e32087eda",
   "metadata": {},
   "outputs": [],
   "source": [
    "densa = 7800/1e6 #carbon steel density g/mm^3\n",
    "densb = 2700/1e6 #aluminum alloy\n",
    "densc = 1020/1e6 #ABS\n",
    "ms = Mode.SUBTRACT\n",
    "LMH = LengthMode.HORIZONTAL\n",
    "LMV = LengthMode.VERTICAL"
   ]
  },
  {
   "cell_type": "code",
   "execution_count": 3,
   "id": "94b0460b-cc47-4d71-af2a-4e0770de9dc1",
   "metadata": {},
   "outputs": [],
   "source": [
    "with BuildPart() as p:\n",
    "    with BuildSketch(Plane.XZ) as s:\n",
    "        Circle(3/2)\n",
    "        Rectangle(3,3.25/2,align=(Align.CENTER,Align.MAX))\n",
    "        with Locations((0,-3.25/2+.625)):\n",
    "            Rectangle(5,.75,align=(Align.CENTER,Align.MAX))\n",
    "    extrude(amount=1.5/2,both=True)\n",
    "    with BuildSketch(Plane.XZ) as s2:\n",
    "        add(s.sketch)\n",
    "        offset(amount=-.125,kind=Kind.INTERSECTION,mode=ms)\n",
    "        split(bisect_by=Plane.XZ.offset(2.5/2-.25/2),keep=Keep.BOTTOM)\n",
    "    extrude(amount=1.25/2,both=True,mode=ms)\n",
    "    with Locations(Plane.XZ):\n",
    "        Hole(2.5/2)\n",
    "    with BuildSketch(Plane.XY.offset(-3.25/2+.625-.125)) as s:\n",
    "        with Locations((5/2-.125-.9/2,0),(-(5/2-.125-.9/2),0)):\n",
    "            SlotOverall(.9,.75,0)\n",
    "    extrude(amount=-.75,mode=ms)\n",
    "\n",
    "p"
   ]
  }
 ],
 "metadata": {
  "kernelspec": {
   "display_name": "Python 3 (ipykernel)",
   "language": "python",
   "name": "python3"
  },
  "language_info": {
   "codemirror_mode": {
    "name": "ipython",
    "version": 3
   },
   "file_extension": ".py",
   "mimetype": "text/x-python",
   "name": "python",
   "nbconvert_exporter": "python",
   "pygments_lexer": "ipython3",
   "version": "3.11.3"
  }
 },
 "nbformat": 4,
 "nbformat_minor": 5
}
