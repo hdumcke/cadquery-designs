{
 "cells": [
  {
   "cell_type": "code",
   "execution_count": 1,
   "id": "e1dd6c0a-25b4-4499-892e-35647afadac5",
   "metadata": {},
   "outputs": [
    {
     "name": "stdout",
     "output_type": "stream",
     "text": [
      "Overwriting auto display for cadquery Workplane and Shape\n"
     ]
    }
   ],
   "source": [
    "from jupyter_cadquery import show, open_viewer, set_defaults\n",
    "import cadquery as cq\n",
    "from build123d import *\n",
    "cv = open_viewer(\"Build123d\", cad_width=770, glass=True)\n",
    "set_defaults(edge_accuracy=0.0001)"
   ]
  },
  {
   "cell_type": "code",
   "execution_count": 4,
   "id": "b1a07e33-b002-4c06-938e-3a20fe6e8184",
   "metadata": {},
   "outputs": [],
   "source": [
    "densa = 7800/1e6 #carbon steel density g/mm^3\n",
    "densb = 2700/1e6 #aluminum alloy\n",
    "densc = 1020/1e6 #ABS\n",
    "ms = Mode.SUBTRACT\n",
    "LMH, LMV = LengthMode.HORIZONTAL, LengthMode.VERTICAL\n",
    "\n",
    "with BuildPart() as p:\n",
    "    with BuildSketch(Plane.XZ) as s:\n",
    "        with BuildLine(Plane.XZ) as l:\n",
    "            m1 = Line((3.5/2,0),(5.625/2,0))\n",
    "            m2 = Line(m1@1,m1@1+(0,3))\n",
    "            m3 = Line(m2@1,m2@1+(-(5.625-3.75)/2,0))\n",
    "            m4 = Line(m3@1,m3@1+(0,-.375))\n",
    "            m5 = Line(m4@1,m4@1+(-.75/2,0))\n",
    "            m6 = Line(m5@1,m5@1+(0,-3+1.75+.375))\n",
    "            m7 = Line(m6@1,m6@1+(.5/2,0))\n",
    "            m8 = Line(m7@1,m1@0)\n",
    "        make_face()\n",
    "    revolve(axis=Axis.Z,revolution_arc=90)\n",
    "\n",
    "    with BuildSketch(Plane.XZ.rotated((0,0,-45))) as s2:\n",
    "        Rectangle(1,1.5,align=(Align.CENTER,Align.MIN))\n",
    "        with Locations((0,1)):\n",
    "            Rectangle(2,.25,align=(Align.CENTER,Align.MIN))\n",
    "    extrude(amount=-6,mode=ms)\n",
    "\n",
    "    with Locations(Plane.XY.offset(3)):\n",
    "        with PolarLocations(4.625/2,1,45):\n",
    "            CounterBoreHole(.375/2,.625/2,.25)\n",
    "    mirror(about=Plane.XZ)\n",
    "    mirror(about=Plane.YZ)\n",
    "           \n",
    "p           "
   ]
  }
 ],
 "metadata": {
  "kernelspec": {
   "display_name": "Python 3 (ipykernel)",
   "language": "python",
   "name": "python3"
  },
  "language_info": {
   "codemirror_mode": {
    "name": "ipython",
    "version": 3
   },
   "file_extension": ".py",
   "mimetype": "text/x-python",
   "name": "python",
   "nbconvert_exporter": "python",
   "pygments_lexer": "ipython3",
   "version": "3.11.3"
  }
 },
 "nbformat": 4,
 "nbformat_minor": 5
}
