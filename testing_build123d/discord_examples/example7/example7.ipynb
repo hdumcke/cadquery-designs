{
 "cells": [
  {
   "cell_type": "code",
   "execution_count": 1,
   "id": "8dd9b979-106a-4799-bdad-2dca698b657e",
   "metadata": {},
   "outputs": [
    {
     "name": "stdout",
     "output_type": "stream",
     "text": [
      "Overwriting auto display for cadquery Workplane and Shape\n"
     ]
    }
   ],
   "source": [
    "from jupyter_cadquery import show, open_viewer, set_defaults\n",
    "import cadquery as cq\n",
    "from build123d import *\n",
    "cv = open_viewer(\"Build123d\", cad_width=770, glass=True)\n",
    "set_defaults(edge_accuracy=0.0001)"
   ]
  },
  {
   "cell_type": "code",
   "execution_count": 2,
   "id": "d4bc4879-a879-4cbb-ab5e-b6cc09bcadf2",
   "metadata": {},
   "outputs": [],
   "source": [
    "with BuildPart() as thicken_test:\n",
    "    Cylinder(5 * CM, 10 * CM)\n",
    "    Cylinder(4 * CM, 10 * CM, mode=Mode.SUBTRACT)\n",
    "\n",
    "    with BuildSketch(Plane.XZ.offset(6 * CM)) as slot:\n",
    "        SlotOverall(8 * CM, 2 * CM, rotation=90)\n",
    "    projected_slot = project(mode=Mode.PRIVATE)\n",
    "    for angle in range(0, 360, 45):\n",
    "        thicken(\n",
    "            projected_slot.rotate(Axis.Z, angle),\n",
    "            amount=-1 * CM,\n",
    "            mode=Mode.SUBTRACT,\n",
    "        )\n",
    "        \n",
    "thicken_test        "
   ]
  }
 ],
 "metadata": {
  "kernelspec": {
   "display_name": "Python 3 (ipykernel)",
   "language": "python",
   "name": "python3"
  },
  "language_info": {
   "codemirror_mode": {
    "name": "ipython",
    "version": 3
   },
   "file_extension": ".py",
   "mimetype": "text/x-python",
   "name": "python",
   "nbconvert_exporter": "python",
   "pygments_lexer": "ipython3",
   "version": "3.11.3"
  }
 },
 "nbformat": 4,
 "nbformat_minor": 5
}
