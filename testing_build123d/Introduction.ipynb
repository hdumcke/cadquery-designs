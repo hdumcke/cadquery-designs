{
 "cells": [
  {
   "cell_type": "code",
   "execution_count": 1,
   "id": "0723b1fc-5415-495a-9b05-8885a5f6b173",
   "metadata": {},
   "outputs": [
    {
     "name": "stdout",
     "output_type": "stream",
     "text": [
      "Overwriting auto display for cadquery Workplane and Shape\n"
     ]
    }
   ],
   "source": [
    "from jupyter_cadquery import show, open_viewer, set_defaults\n",
    "import cadquery as cq\n",
    "from build123d import *\n",
    "cv = open_viewer(\"Build123d\", cad_width=770, glass=True)\n",
    "set_defaults(edge_accuracy=0.0001)"
   ]
  },
  {
   "cell_type": "code",
   "execution_count": 2,
   "id": "1cfbd875-9b9c-4196-ae19-855f533250fc",
   "metadata": {},
   "outputs": [],
   "source": [
    "length, width, thickness = 80.0, 60.0, 10.0\n",
    "\n",
    "with BuildPart() as ex1:\n",
    "    Box(length, width, thickness)"
   ]
  },
  {
   "cell_type": "code",
   "execution_count": 3,
   "id": "efb7e415-caf8-4fbd-a040-ac1a9706a335",
   "metadata": {},
   "outputs": [],
   "source": [
    "ex1"
   ]
  },
  {
   "cell_type": "code",
   "execution_count": 4,
   "id": "0e9344b0-f10e-45f3-a00f-4ff2793ab400",
   "metadata": {},
   "outputs": [],
   "source": [
    "length, width, thickness = 80.0, 60.0, 10.0\n",
    "center_hole_dia = 22.0\n",
    "\n",
    "with BuildPart() as ex2:\n",
    "    Box(length, width, thickness)\n",
    "    Cylinder(radius=center_hole_dia / 2, height=thickness, mode=Mode.SUBTRACT)"
   ]
  },
  {
   "cell_type": "code",
   "execution_count": 5,
   "id": "7610bd5e-fde7-42c9-b664-8c14b8cc4453",
   "metadata": {},
   "outputs": [],
   "source": [
    "ex2"
   ]
  },
  {
   "cell_type": "code",
   "execution_count": 6,
   "id": "0dc9dd60-d785-4d2b-aaf6-8a1ceb6db470",
   "metadata": {},
   "outputs": [],
   "source": [
    "length, width, thickness = 80.0, 60.0, 10.0\n",
    "\n",
    "with BuildPart() as ex3:\n",
    "    with BuildSketch() as ex3_sk:\n",
    "        Circle(width)\n",
    "        Rectangle(length / 2, width / 2, mode=Mode.SUBTRACT)\n",
    "    extrude(amount=2 * thickness)"
   ]
  },
  {
   "cell_type": "code",
   "execution_count": 7,
   "id": "51ca238c-7dc6-4887-8254-3a18389326cb",
   "metadata": {},
   "outputs": [],
   "source": [
    "ex3"
   ]
  },
  {
   "cell_type": "code",
   "execution_count": 8,
   "id": "e0ee43fa-2e83-4fe3-bb6b-bba504d65cb2",
   "metadata": {},
   "outputs": [],
   "source": [
    "length, width, thickness = 80.0, 60.0, 10.0\n",
    "\n",
    "with BuildPart() as ex4:\n",
    "    with BuildSketch() as ex4_sk:\n",
    "        with BuildLine() as ex4_ln:\n",
    "            l1 = Line((0, 0), (length, 0))\n",
    "            l2 = Line((length, 0), (length, width))\n",
    "            l3 = ThreePointArc((length, width), (width, width * 1.5), (0.0, width))\n",
    "            l4 = Line((0.0, width), (0, 0))\n",
    "        make_face()\n",
    "    extrude(amount=thickness)"
   ]
  },
  {
   "cell_type": "code",
   "execution_count": 9,
   "id": "88c77cdf-e45d-4a7f-87f9-8fec69aa379e",
   "metadata": {},
   "outputs": [],
   "source": [
    "ex4"
   ]
  },
  {
   "cell_type": "code",
   "execution_count": 10,
   "id": "54d0964a-7b76-42db-9fd2-323e90a906bd",
   "metadata": {},
   "outputs": [],
   "source": [
    "a, b, c, d = 90, 45, 15, 7.5\n",
    "\n",
    "with BuildPart() as ex5:\n",
    "    with BuildSketch() as ex5_sk:\n",
    "        Circle(a)\n",
    "        with Locations((b, 0.0)):\n",
    "            Rectangle(c, c, mode=Mode.SUBTRACT)\n",
    "        with Locations((0, b)):\n",
    "            Circle(d, mode=Mode.SUBTRACT)\n",
    "    extrude(amount=c)"
   ]
  },
  {
   "cell_type": "code",
   "execution_count": 11,
   "id": "aaee94ef-7416-4927-929f-2e1356916c8b",
   "metadata": {},
   "outputs": [],
   "source": [
    "ex5"
   ]
  },
  {
   "cell_type": "code",
   "execution_count": 12,
   "id": "e3720809-7997-4543-9d47-5f700b9b8024",
   "metadata": {},
   "outputs": [],
   "source": [
    "a, b, c = 80, 60, 10\n",
    "\n",
    "with BuildPart() as ex6:\n",
    "    with BuildSketch() as ex6_sk:\n",
    "        Circle(a)\n",
    "        with Locations((b, 0), (0, b), (-b, 0), (0, -b)):\n",
    "            Circle(c, mode=Mode.SUBTRACT)\n",
    "    extrude(amount=c)"
   ]
  },
  {
   "cell_type": "code",
   "execution_count": 13,
   "id": "45069283-9c8e-46a0-af03-ee505cef8d11",
   "metadata": {},
   "outputs": [],
   "source": [
    "ex6"
   ]
  },
  {
   "cell_type": "code",
   "execution_count": 14,
   "id": "449abfd4-c943-467d-90b3-1eeff2bb329c",
   "metadata": {},
   "outputs": [],
   "source": [
    "a, b, c = 60, 80, 5\n",
    "\n",
    "with BuildPart() as ex7:\n",
    "    with BuildSketch() as ex7_sk:\n",
    "        Rectangle(a, b)\n",
    "        with Locations((0, 3 * c), (0, -3 * c)):\n",
    "            RegularPolygon(radius=2 * c, side_count=6, mode=Mode.SUBTRACT)\n",
    "    extrude(amount=c)"
   ]
  },
  {
   "cell_type": "code",
   "execution_count": 15,
   "id": "c3b75c2b-7b05-471f-a680-239c5dfc995b",
   "metadata": {},
   "outputs": [],
   "source": [
    "ex7"
   ]
  },
  {
   "cell_type": "code",
   "execution_count": 16,
   "id": "c55bd644-55fc-42b6-a556-02af03a9568d",
   "metadata": {},
   "outputs": [],
   "source": [
    "(L, H, W, t) = (100.0, 20.0, 20.0, 1.0)\n",
    "pts = [\n",
    "    (0, H / 2.0),\n",
    "    (W / 2.0, H / 2.0),\n",
    "    (W / 2.0, (H / 2.0 - t)),\n",
    "    (t / 2.0, (H / 2.0 - t)),\n",
    "    (t / 2.0, (t - H / 2.0)),\n",
    "    (W / 2.0, (t - H / 2.0)),\n",
    "    (W / 2.0, H / -2.0),\n",
    "    (0, H / -2.0),\n",
    "]\n",
    "\n",
    "with BuildPart() as ex8:\n",
    "    with BuildSketch(Plane.YZ) as ex8_sk:\n",
    "        with BuildLine() as ex8_ln:\n",
    "            Polyline(*pts)\n",
    "            mirror(ex8_ln.line, about=Plane.YZ)\n",
    "        make_face()\n",
    "    extrude(amount=L)"
   ]
  },
  {
   "cell_type": "code",
   "execution_count": 17,
   "id": "10c9215e-68e5-4620-8fcb-ed385452473a",
   "metadata": {},
   "outputs": [],
   "source": [
    "ex8"
   ]
  },
  {
   "cell_type": "code",
   "execution_count": 18,
   "id": "7ac8a8be-3dad-49a3-a3a8-7146c674de8f",
   "metadata": {},
   "outputs": [],
   "source": [
    "length, width, thickness = 80.0, 60.0, 10.0\n",
    "\n",
    "with BuildPart() as ex9:\n",
    "    Box(length, width, thickness)\n",
    "    chamfer(ex9.edges().group_by(Axis.Z)[-1], length=4)\n",
    "    fillet(ex9.edges().filter_by(Axis.Z), radius=5)"
   ]
  },
  {
   "cell_type": "code",
   "execution_count": 19,
   "id": "673ae153-a8fb-4a42-a911-730523ce86b6",
   "metadata": {},
   "outputs": [],
   "source": [
    "ex9"
   ]
  },
  {
   "cell_type": "code",
   "execution_count": 20,
   "id": "1386f823-eaaa-4b69-91ba-449794890458",
   "metadata": {},
   "outputs": [],
   "source": [
    "length, width, thickness = 80.0, 60.0, 10.0\n",
    "\n",
    "with BuildPart() as ex10:\n",
    "    Box(length, width, thickness)\n",
    "    Hole(radius=width / 4)\n",
    "    fillet(ex10.edges(Select.LAST).group_by(Axis.Z)[-1], radius=2)"
   ]
  },
  {
   "cell_type": "code",
   "execution_count": 21,
   "id": "407509d1-3949-41af-a60b-4df9cc5b660a",
   "metadata": {},
   "outputs": [],
   "source": [
    "ex10"
   ]
  },
  {
   "cell_type": "code",
   "execution_count": 22,
   "id": "6a2b57de-a6f3-4de8-85e5-284cdaf2e02a",
   "metadata": {},
   "outputs": [],
   "source": [
    "length, width, thickness = 80.0, 60.0, 10.0\n",
    "\n",
    "with BuildPart() as ex11:\n",
    "    Box(length, width, thickness)\n",
    "    chamfer(ex11.edges().group_by(Axis.Z)[-1], length=4)\n",
    "    fillet(ex11.edges().filter_by(Axis.Z), radius=5)\n",
    "    Hole(radius=width / 4)\n",
    "    fillet(ex11.edges(Select.LAST).sort_by(Axis.Z)[-1], radius=2)\n",
    "    with BuildSketch(ex11.faces().sort_by(Axis.Z)[-1]) as ex11_sk:\n",
    "        with GridLocations(length / 2, width / 2, 2, 2):\n",
    "            RegularPolygon(radius=5, side_count=5)\n",
    "    extrude(amount=-thickness, mode=Mode.SUBTRACT)"
   ]
  },
  {
   "cell_type": "code",
   "execution_count": 23,
   "id": "bec9afdb-c6f5-4e7e-ac5f-8cb7d884257e",
   "metadata": {},
   "outputs": [],
   "source": [
    "ex11"
   ]
  },
  {
   "cell_type": "code",
   "execution_count": 24,
   "id": "cd3a1c25-95c8-406b-8a8f-77f3bad1e60a",
   "metadata": {},
   "outputs": [],
   "source": [
    "sPnts = [\n",
    "    (55, 30),\n",
    "    (50, 35),\n",
    "    (40, 30),\n",
    "    (30, 20),\n",
    "    (20, 25),\n",
    "    (10, 20),\n",
    "    (0, 20),\n",
    "]\n",
    "\n",
    "with BuildPart() as ex12:\n",
    "    with BuildSketch() as ex12_sk:\n",
    "        with BuildLine() as ex12_ln:\n",
    "            l1 = Spline(*sPnts)\n",
    "            l2 = Line((55, 30), (60, 0))\n",
    "            l3 = Line((60, 0), (0, 0))\n",
    "            l4 = Line((0, 0), (0, 20))\n",
    "        make_face()\n",
    "    extrude(amount=10)"
   ]
  },
  {
   "cell_type": "code",
   "execution_count": 26,
   "id": "1304416a-118b-4c15-9b7c-8812afbd783a",
   "metadata": {},
   "outputs": [],
   "source": [
    "ex12"
   ]
  },
  {
   "cell_type": "code",
   "execution_count": 27,
   "id": "c9c628f5-5dd6-4db1-92e4-cde47e0d6e1c",
   "metadata": {},
   "outputs": [],
   "source": [
    "a, b = 40, 20\n",
    "\n",
    "with BuildPart() as ex14:\n",
    "    with BuildLine() as ex14_ln:\n",
    "        l1 = JernArc(start=(0, 0), tangent=(0, 1), radius=a, arc_size=180)\n",
    "        l2 = JernArc(start=l1 @ 1, tangent=l1 % 1, radius=a, arc_size=-90)\n",
    "        l3 = Line(l2 @ 1, l2 @ 1 + Vector(-a, a))\n",
    "    with BuildSketch(Plane.XZ) as ex14_sk:\n",
    "        Rectangle(b, b)\n",
    "    sweep()"
   ]
  },
  {
   "cell_type": "code",
   "execution_count": 28,
   "id": "6ff04570-d464-445d-b6cb-ebee756bd502",
   "metadata": {},
   "outputs": [],
   "source": [
    "ex14"
   ]
  },
  {
   "cell_type": "code",
   "execution_count": 29,
   "id": "d4027933-1465-4408-9661-1a876c52042a",
   "metadata": {},
   "outputs": [],
   "source": [
    "a, b, c = 80, 40, 20\n",
    "\n",
    "with BuildPart() as ex15:\n",
    "    with BuildSketch() as ex15_sk:\n",
    "        with BuildLine() as ex15_ln:\n",
    "            l1 = Line((0, 0), (a, 0))\n",
    "            l2 = Line(l1 @ 1, l1 @ 1 + Vector(0, b))\n",
    "            l3 = Line(l2 @ 1, l2 @ 1 + Vector(-c, 0))\n",
    "            l4 = Line(l3 @ 1, l3 @ 1 + Vector(0, -c))\n",
    "            l5 = Line(l4 @ 1, Vector(0, (l4 @ 1).Y))\n",
    "            mirror(ex15_ln.line, about=Plane.YZ)\n",
    "        make_face()\n",
    "    extrude(amount=c)"
   ]
  },
  {
   "cell_type": "code",
   "execution_count": 30,
   "id": "04c5bde5-cf1b-45be-b0b9-2da809248150",
   "metadata": {},
   "outputs": [],
   "source": [
    "ex15"
   ]
  },
  {
   "cell_type": "code",
   "execution_count": 31,
   "id": "4cc62d91-e7cf-4ac6-9070-72b076dd7693",
   "metadata": {},
   "outputs": [],
   "source": [
    "length, width, thickness = 80.0, 60.0, 10.0\n",
    "\n",
    "with BuildPart() as ex16_single:\n",
    "    with BuildSketch(Plane.XZ) as ex16_sk:\n",
    "        Rectangle(length, width)\n",
    "        fillet(ex16_sk.vertices(), radius=length / 10)\n",
    "        with GridLocations(x_spacing=length / 4, y_spacing=0, x_count=3, y_count=1):\n",
    "            Circle(length / 12, mode=Mode.SUBTRACT)\n",
    "        Rectangle(length, width, align=(Align.MIN, Align.MIN), mode=Mode.SUBTRACT)\n",
    "    extrude(amount=length)\n",
    "\n",
    "with BuildPart() as ex16:\n",
    "    add(ex16_single.part)\n",
    "    mirror(ex16_single.part, about=Plane.XY.offset(width))\n",
    "    mirror(ex16_single.part, about=Plane.YX.offset(width))\n",
    "    mirror(ex16_single.part, about=Plane.YZ.offset(width))\n",
    "    mirror(ex16_single.part, about=Plane.YZ.offset(-width))"
   ]
  },
  {
   "cell_type": "code",
   "execution_count": 32,
   "id": "2e1b1731-fa44-480a-96e5-3cad95aa8852",
   "metadata": {},
   "outputs": [],
   "source": [
    "ex16"
   ]
  },
  {
   "cell_type": "code",
   "execution_count": 33,
   "id": "9a17b393-8463-42e4-a205-401f3c0aa2cc",
   "metadata": {},
   "outputs": [],
   "source": [
    "a, b = 30, 20\n",
    "\n",
    "with BuildPart() as ex17:\n",
    "    with BuildSketch() as ex17_sk:\n",
    "        RegularPolygon(radius=a, side_count=5)\n",
    "    extrude(amount=b)\n",
    "    mirror(ex17.part, about=Plane(ex17.faces().group_by(Axis.Y)[0][0]))"
   ]
  },
  {
   "cell_type": "code",
   "execution_count": 34,
   "id": "4b89b5b6-c86a-4006-a075-b84f2b08a68f",
   "metadata": {},
   "outputs": [],
   "source": [
    "ex17"
   ]
  },
  {
   "cell_type": "code",
   "execution_count": 35,
   "id": "1ac3714d-25db-4934-a794-c678160d3d0f",
   "metadata": {},
   "outputs": [],
   "source": [
    "length, width, thickness = 80.0, 60.0, 10.0\n",
    "a, b = 4, 5\n",
    "\n",
    "with BuildPart() as ex18:\n",
    "    Box(length, width, thickness)\n",
    "    chamfer(ex18.edges().group_by(Axis.Z)[-1], length=a)\n",
    "    fillet(ex18.edges().filter_by(Axis.Z), radius=b)\n",
    "    with BuildSketch(ex18.faces().sort_by(Axis.Z)[-1]):\n",
    "        Rectangle(2 * b, 2 * b)\n",
    "    extrude(amount=-thickness, mode=Mode.SUBTRACT)"
   ]
  },
  {
   "cell_type": "code",
   "execution_count": 36,
   "id": "46bba8fa-5acc-4e8f-8ebb-d2c2ba90efd6",
   "metadata": {},
   "outputs": [],
   "source": [
    "ex18"
   ]
  },
  {
   "cell_type": "code",
   "execution_count": 37,
   "id": "afe1c267-aa57-467c-a052-3fd582880939",
   "metadata": {},
   "outputs": [],
   "source": [
    "length, thickness = 80.0, 10.0\n",
    "\n",
    "with BuildPart() as ex19:\n",
    "    with BuildSketch() as ex19_sk:\n",
    "        RegularPolygon(radius=length / 2, side_count=7)\n",
    "    extrude(amount=thickness)\n",
    "    topf = ex19.faces().sort_by(Axis.Z)[-1]\n",
    "    vtx = topf.vertices().group_by(Axis.X)[-1][0]\n",
    "    vtx2Axis = Axis((0, 0, 0), (-1, -0.5, 0))\n",
    "    vtx2 = topf.vertices().sort_by(vtx2Axis)[-1]\n",
    "    with BuildSketch(topf) as ex19_sk2:\n",
    "        with Locations((vtx.X, vtx.Y), (vtx2.X, vtx2.Y)):\n",
    "            Circle(radius=length / 8)\n",
    "    extrude(amount=-thickness, mode=Mode.SUBTRACT)"
   ]
  },
  {
   "cell_type": "code",
   "execution_count": 38,
   "id": "0e2d795f-36a3-4c4c-920e-4a5b66dfa4db",
   "metadata": {},
   "outputs": [],
   "source": [
    "ex19"
   ]
  },
  {
   "cell_type": "code",
   "execution_count": 39,
   "id": "91502c1b-74af-41e9-8533-d29ee48a24e9",
   "metadata": {},
   "outputs": [],
   "source": [
    "length, width, thickness = 80.0, 60.0, 10.0\n",
    "\n",
    "with BuildPart() as ex20:\n",
    "    Box(length, width, thickness)\n",
    "    plane = Plane(ex20.faces().group_by(Axis.X)[0][0])\n",
    "    with BuildSketch(plane.offset(2 * thickness)):\n",
    "        Circle(width / 3)\n",
    "    extrude(amount=width)"
   ]
  },
  {
   "cell_type": "code",
   "execution_count": 40,
   "id": "77488e19-4978-4bc1-8593-9fd2af3a87a5",
   "metadata": {},
   "outputs": [],
   "source": [
    "ex20"
   ]
  },
  {
   "cell_type": "code",
   "execution_count": 41,
   "id": "1ad2a6cf-f25b-43ba-b203-d624609a935f",
   "metadata": {},
   "outputs": [],
   "source": [
    "width, length = 10.0, 60.0\n",
    "\n",
    "with BuildPart() as ex21:\n",
    "    with BuildSketch() as ex21_sk:\n",
    "        Circle(width / 2)\n",
    "    extrude(amount=length)\n",
    "    with BuildSketch(Plane(origin=ex21.part.center(), z_dir=(-1, 0, 0))):\n",
    "        Circle(width / 2)\n",
    "    extrude(amount=length)"
   ]
  },
  {
   "cell_type": "code",
   "execution_count": 42,
   "id": "e02c32bf-987e-487b-a7a1-eba07f76c507",
   "metadata": {},
   "outputs": [],
   "source": [
    "ex21"
   ]
  },
  {
   "cell_type": "code",
   "execution_count": 43,
   "id": "ec630185-fef3-4d37-85c6-ba905ffd78ca",
   "metadata": {},
   "outputs": [],
   "source": [
    "length, width, thickness = 80.0, 60.0, 10.0\n",
    "\n",
    "with BuildPart() as ex22:\n",
    "    Box(length, width, thickness)\n",
    "    pln = Plane(ex22.faces().group_by(Axis.Z)[0][0]).rotated((0, -50, 0))\n",
    "    with BuildSketch(pln) as ex22_sk:\n",
    "        with GridLocations(length / 4, width / 4, 2, 2):\n",
    "            Circle(thickness / 4)\n",
    "    extrude(amount=-100, both=True, mode=Mode.SUBTRACT)"
   ]
  },
  {
   "cell_type": "code",
   "execution_count": 44,
   "id": "d7bf3159-b7ea-4678-99d2-806e7616cc44",
   "metadata": {},
   "outputs": [],
   "source": [
    "ex22"
   ]
  },
  {
   "cell_type": "code",
   "execution_count": 45,
   "id": "83067b53-6dc1-4a2b-8cc5-6e78e2323c63",
   "metadata": {},
   "outputs": [],
   "source": [
    "pts = [\n",
    "    (-25, 35),\n",
    "    (-25, 0),\n",
    "    (-20, 0),\n",
    "    (-20, 5),\n",
    "    (-15, 10),\n",
    "    (-15, 35),\n",
    "]\n",
    "\n",
    "with BuildPart() as ex23:\n",
    "    with BuildSketch(Plane.XZ) as ex23_sk:\n",
    "        with BuildLine() as ex23_ln:\n",
    "            l1 = Polyline(*pts)\n",
    "            l2 = Line(l1 @ 1, l1 @ 0)\n",
    "        make_face()\n",
    "        with Locations((0, 35)):\n",
    "            Circle(25)\n",
    "        split(bisect_by=Plane.ZY)\n",
    "    revolve(axis=Axis.Z)"
   ]
  },
  {
   "cell_type": "code",
   "execution_count": 46,
   "id": "d92ee0af-e0f6-4e43-8997-1b975e2aa2b9",
   "metadata": {},
   "outputs": [],
   "source": [
    "ex23"
   ]
  },
  {
   "cell_type": "code",
   "execution_count": 47,
   "id": "41810fb3-18df-4215-8409-2e37046ee31a",
   "metadata": {},
   "outputs": [],
   "source": [
    "length, width, thickness = 80.0, 60.0, 10.0\n",
    "\n",
    "with BuildPart() as ex24:\n",
    "    Box(length, length, thickness)\n",
    "    with BuildSketch(ex24.faces().group_by(Axis.Z)[0][0]) as ex24_sk:\n",
    "        Circle(length / 3)\n",
    "    with BuildSketch(ex24_sk.faces()[0].offset(length / 2)) as ex24_sk2:\n",
    "        Rectangle(length / 6, width / 6)\n",
    "    loft()"
   ]
  },
  {
   "cell_type": "code",
   "execution_count": 48,
   "id": "5d6cd0cf-51ee-45d4-b7b3-9c00194a1dd7",
   "metadata": {},
   "outputs": [],
   "source": [
    "ex24"
   ]
  },
  {
   "cell_type": "code",
   "execution_count": 49,
   "id": "890517de-c344-4e2f-a64b-41352087ae98",
   "metadata": {},
   "outputs": [],
   "source": [
    "rad, offs = 50, 10\n",
    "\n",
    "with BuildPart() as ex25:\n",
    "    with BuildSketch() as ex25_sk1:\n",
    "        RegularPolygon(radius=rad, side_count=5)\n",
    "    with BuildSketch(Plane.XY.offset(15)) as ex25_sk2:\n",
    "        RegularPolygon(radius=rad, side_count=5)\n",
    "        offset(amount=offs)\n",
    "    with BuildSketch(Plane.XY.offset(30)) as ex25_sk3:\n",
    "        RegularPolygon(radius=rad, side_count=5)\n",
    "        offset(amount=offs, kind=Kind.INTERSECTION)\n",
    "    extrude(amount=1)"
   ]
  },
  {
   "cell_type": "code",
   "execution_count": 50,
   "id": "7fab0822-6917-4cfb-b86f-e1dcc09de92c",
   "metadata": {},
   "outputs": [],
   "source": [
    "ex25"
   ]
  },
  {
   "cell_type": "code",
   "execution_count": 51,
   "id": "eaf941d9-b4a4-4c4e-be6b-e57baf1dda3d",
   "metadata": {},
   "outputs": [],
   "source": [
    "length, width, thickness, wall = 80.0, 60.0, 10.0, 2.0\n",
    "\n",
    "with BuildPart() as ex26:\n",
    "    Box(length, width, thickness)\n",
    "    topf = ex26.faces().sort_by(Axis.Z)[-1]\n",
    "    offset(amount=-wall, openings=topf)"
   ]
  },
  {
   "cell_type": "code",
   "execution_count": 52,
   "id": "3cdddaf9-801a-4fb1-8374-4ba6b4de965f",
   "metadata": {},
   "outputs": [],
   "source": [
    "ex26"
   ]
  },
  {
   "cell_type": "code",
   "execution_count": 53,
   "id": "7b4bb1df-a251-436a-8c55-fb92153ca6ab",
   "metadata": {},
   "outputs": [],
   "source": [
    "length, width, thickness = 80.0, 60.0, 10.0\n",
    "\n",
    "with BuildPart() as ex27:\n",
    "    Box(length, width, thickness)\n",
    "    with BuildSketch(ex27.faces().sort_by(Axis.Z)[0]) as ex27_sk:\n",
    "        Circle(width / 4)\n",
    "    extrude(amount=-thickness, mode=Mode.SUBTRACT)\n",
    "    split(bisect_by=Plane(ex27.faces().sort_by(Axis.Y)[-1]).offset(-width / 2))"
   ]
  },
  {
   "cell_type": "code",
   "execution_count": 54,
   "id": "c9540576-0303-4d9b-baa6-787769884b08",
   "metadata": {},
   "outputs": [],
   "source": [
    "ex27"
   ]
  },
  {
   "cell_type": "code",
   "execution_count": 55,
   "id": "1b4e95e9-2473-4e57-96df-ac86ed0f4409",
   "metadata": {},
   "outputs": [],
   "source": [
    "width, thickness = 80.0, 10.0\n",
    "\n",
    "with BuildPart() as ex28:\n",
    "    with BuildSketch() as ex28_sk:\n",
    "        RegularPolygon(radius=width / 4, side_count=3)\n",
    "    ex28_ex = extrude(amount=thickness, mode=Mode.PRIVATE)\n",
    "    midfaces = ex28_ex.faces().group_by(Axis.Z)[1]\n",
    "    Sphere(radius=width / 2)\n",
    "    for face in midfaces:\n",
    "        with Locations(face):\n",
    "            Hole(thickness / 2)"
   ]
  },
  {
   "cell_type": "code",
   "execution_count": 56,
   "id": "a5042fe7-b135-4137-8c84-bdae56f04234",
   "metadata": {},
   "outputs": [],
   "source": [
    "ex28"
   ]
  },
  {
   "cell_type": "code",
   "execution_count": 57,
   "id": "aada6eab-c1cc-471b-975d-b425327515db",
   "metadata": {},
   "outputs": [],
   "source": [
    "L, w, t, b, h, n = 60.0, 18.0, 9.0, 0.9, 90.0, 6.0\n",
    "\n",
    "with BuildPart() as ex29:\n",
    "    with BuildSketch(Plane.XY.offset(-b)) as ex29_ow_sk:\n",
    "        with BuildLine() as ex29_ow_ln:\n",
    "            l1 = Line((0, 0), (0, w / 2))\n",
    "            l2 = ThreePointArc(l1 @ 1, (L / 2.0, w / 2.0 + t), (L, w / 2.0))\n",
    "            l3 = Line(l2 @ 1, Vector((l2 @ 1).X, 0, 0))\n",
    "            mirror(ex29_ow_ln.line)\n",
    "        make_face()\n",
    "    extrude(amount=h + b)\n",
    "    fillet(ex29.edges(), radius=w / 6)\n",
    "    with BuildSketch(ex29.faces().sort_by(Axis.Z)[-1]):\n",
    "        Circle(t)\n",
    "    extrude(amount=n)\n",
    "    necktopf = ex29.faces().sort_by(Axis.Z)[-1]\n",
    "    offset(ex29.solids()[0], amount=-b, openings=necktopf)"
   ]
  },
  {
   "cell_type": "code",
   "execution_count": 58,
   "id": "a73b80a2-05ab-4b24-aa01-2c3c7294cd52",
   "metadata": {},
   "outputs": [],
   "source": [
    "ex29"
   ]
  },
  {
   "cell_type": "code",
   "execution_count": 59,
   "id": "b0e1f28e-db30-4681-a04a-52d0b5980659",
   "metadata": {},
   "outputs": [],
   "source": [
    "pts = [\n",
    "    (0, 0),\n",
    "    (20, 20),\n",
    "    (40, 0),\n",
    "    (0, -40),\n",
    "    (-60, 0),\n",
    "    (0, 100),\n",
    "    (100, 0),\n",
    "]\n",
    "\n",
    "wts = [\n",
    "    1.0,\n",
    "    1.0,\n",
    "    2.0,\n",
    "    3.0,\n",
    "    4.0,\n",
    "    2.0,\n",
    "    1.0,\n",
    "]\n",
    "\n",
    "with BuildPart() as ex30:\n",
    "    with BuildSketch() as ex30_sk:\n",
    "        with BuildLine() as ex30_ln:\n",
    "            l0 = Polyline(*pts)\n",
    "            l1 = Bezier(*pts, weights=wts)\n",
    "        make_face()\n",
    "    extrude(amount=10)"
   ]
  },
  {
   "cell_type": "code",
   "execution_count": 60,
   "id": "c76df34d-4a42-4ec4-9439-d798f30db22b",
   "metadata": {},
   "outputs": [],
   "source": [
    "ex30"
   ]
  },
  {
   "cell_type": "code",
   "execution_count": 61,
   "id": "bc45ea58-69a6-4be3-962f-d480e56b83e3",
   "metadata": {},
   "outputs": [],
   "source": [
    "a, b, c = 80.0, 5.0, 3.0\n",
    "\n",
    "with BuildPart() as ex31:\n",
    "    with BuildSketch() as ex31_sk:\n",
    "        with PolarLocations(a / 2, 6):\n",
    "            with GridLocations(3 * b, 3 * b, 2, 2):\n",
    "                RegularPolygon(b, 3)\n",
    "            RegularPolygon(b, 4)\n",
    "        RegularPolygon(3 * b, 6, rotation=30)\n",
    "    extrude(amount=c)"
   ]
  },
  {
   "cell_type": "code",
   "execution_count": 62,
   "id": "c0668f09-253e-46a8-a8e8-47923da89afb",
   "metadata": {},
   "outputs": [],
   "source": [
    "ex31"
   ]
  },
  {
   "cell_type": "code",
   "execution_count": 63,
   "id": "41c01dfe-3355-423d-9fac-18a8340f38e0",
   "metadata": {},
   "outputs": [],
   "source": [
    "a, b, c = 80.0, 10.0, 1.0\n",
    "\n",
    "with BuildPart() as ex32:\n",
    "    with BuildSketch(mode=Mode.PRIVATE) as ex32_sk:\n",
    "        RegularPolygon(2 * b, 6, rotation=30)\n",
    "        with PolarLocations(a / 2, 6):\n",
    "            RegularPolygon(b, 4)\n",
    "    for idx, obj in enumerate(ex32_sk.sketch.faces()):\n",
    "        add(obj)\n",
    "        extrude(amount=c + 3 * idx)"
   ]
  },
  {
   "cell_type": "code",
   "execution_count": 64,
   "id": "1e14b83a-40fd-47a8-bdf2-6e458e30f6ee",
   "metadata": {},
   "outputs": [],
   "source": [
    "ex32"
   ]
  },
  {
   "cell_type": "code",
   "execution_count": 65,
   "id": "14e1bd99-3bd1-4ba2-8d8d-df26d755c72d",
   "metadata": {},
   "outputs": [],
   "source": [
    "a, b, c = 80.0, 5.0, 1.0\n",
    "\n",
    "\n",
    "def square(rad, loc):\n",
    "    with BuildSketch() as sk:\n",
    "        with Locations(loc):\n",
    "            RegularPolygon(rad, 4)\n",
    "    return sk.sketch\n",
    "\n",
    "\n",
    "with BuildPart() as ex33:\n",
    "    with BuildSketch(mode=Mode.PRIVATE) as ex33_sk:\n",
    "        locs = PolarLocations(a / 2, 6)\n",
    "        for i, j in enumerate(locs):\n",
    "            add(square(b + 2 * i, j))\n",
    "    for idx, obj in enumerate(ex33_sk.sketch.faces()):\n",
    "        add(obj)\n",
    "        extrude(amount=c + 2 * idx)"
   ]
  },
  {
   "cell_type": "code",
   "execution_count": 66,
   "id": "80f6dbd8-edab-4453-bb89-f3ab6e656f35",
   "metadata": {},
   "outputs": [],
   "source": [
    "ex33"
   ]
  },
  {
   "cell_type": "code",
   "execution_count": 67,
   "id": "70f84fa1-af74-44c6-9b63-8cc8612a7ae9",
   "metadata": {},
   "outputs": [],
   "source": [
    "length, width, thickness, fontsz, fontht = 80.0, 60.0, 10.0, 25.0, 4.0\n",
    "\n",
    "with BuildPart() as ex34:\n",
    "    Box(length, width, thickness)\n",
    "    topf = ex34.faces().sort_by(Axis.Z)[-1]\n",
    "    with BuildSketch(topf) as ex34_sk:\n",
    "        Text(\"Hello\", font_size=fontsz, align=(Align.CENTER, Align.MIN))\n",
    "    extrude(amount=fontht)\n",
    "    with BuildSketch(topf) as ex34_sk2:\n",
    "        Text(\"World\", font_size=fontsz, align=(Align.CENTER, Align.MAX))\n",
    "    extrude(amount=-fontht, mode=Mode.SUBTRACT)"
   ]
  },
  {
   "cell_type": "code",
   "execution_count": 68,
   "id": "9171707e-0d5e-4f4d-bb05-8b273b0fe5d5",
   "metadata": {},
   "outputs": [],
   "source": [
    "ex34"
   ]
  },
  {
   "cell_type": "code",
   "execution_count": 69,
   "id": "d245c891-41e6-4edb-b29a-f76833ee4747",
   "metadata": {},
   "outputs": [],
   "source": [
    "length, width, thickness = 80.0, 60.0, 10.0\n",
    "\n",
    "with BuildPart() as ex35:\n",
    "    Box(length, length, thickness)\n",
    "    topf = ex35.faces().sort_by(Axis.Z)[-1]\n",
    "    with BuildSketch(topf) as ex35_sk:\n",
    "        SlotCenterToCenter(width / 2, 10)\n",
    "        with BuildLine(mode=Mode.PRIVATE) as ex35_ln:\n",
    "            RadiusArc((-width / 2, 0), (0, width / 2), radius=width / 2)\n",
    "        SlotArc(arc=ex35_ln.edges()[0], height=thickness, rotation=0)\n",
    "        with BuildLine(mode=Mode.PRIVATE) as ex35_ln2:\n",
    "            RadiusArc((0, -width / 2), (width / 2, 0), radius=-width / 2)\n",
    "        SlotArc(arc=ex35_ln2.edges()[0], height=thickness, rotation=0)\n",
    "    extrude(amount=-thickness, mode=Mode.SUBTRACT)"
   ]
  },
  {
   "cell_type": "code",
   "execution_count": 70,
   "id": "37086440-ebbe-4a82-bc52-150b65d17804",
   "metadata": {},
   "outputs": [],
   "source": [
    "ex35"
   ]
  },
  {
   "cell_type": "code",
   "execution_count": 71,
   "id": "4b4eb353-b521-4a5d-b979-2697e36b1ec0",
   "metadata": {},
   "outputs": [],
   "source": [
    "rad, rev = 6, 50\n",
    "\n",
    "with BuildPart() as ex36:\n",
    "    with BuildSketch() as ex36_sk:\n",
    "        with Locations((0, rev)):\n",
    "            Circle(rad)\n",
    "    revolve(axis=Axis.X, revolution_arc=180)\n",
    "    with BuildSketch() as ex36_sk2:\n",
    "        Rectangle(rad, rev)\n",
    "    extrude(until=Until.NEXT)"
   ]
  },
  {
   "cell_type": "code",
   "execution_count": 72,
   "id": "05600a24-4434-4661-aa65-1cb884077b39",
   "metadata": {},
   "outputs": [],
   "source": [
    "ex36"
   ]
  }
 ],
 "metadata": {
  "kernelspec": {
   "display_name": "Python 3 (ipykernel)",
   "language": "python",
   "name": "python3"
  },
  "language_info": {
   "codemirror_mode": {
    "name": "ipython",
    "version": 3
   },
   "file_extension": ".py",
   "mimetype": "text/x-python",
   "name": "python",
   "nbconvert_exporter": "python",
   "pygments_lexer": "ipython3",
   "version": "3.11.3"
  }
 },
 "nbformat": 4,
 "nbformat_minor": 5
}
