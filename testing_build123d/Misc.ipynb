{
 "cells": [
  {
   "cell_type": "code",
   "execution_count": 1,
   "id": "cb2274d5-77fd-4d93-8a1e-fd4172d24bbc",
   "metadata": {},
   "outputs": [
    {
     "name": "stdout",
     "output_type": "stream",
     "text": [
      "Overwriting auto display for cadquery Workplane and Shape\n"
     ]
    }
   ],
   "source": [
    "from jupyter_cadquery import show, open_viewer, set_defaults\n",
    "import cadquery as cq\n",
    "from build123d import *\n",
    "cv = open_viewer(\"Build123d\", cad_width=770, glass=True)\n",
    "set_defaults(edge_accuracy=0.0001)"
   ]
  },
  {
   "cell_type": "code",
   "execution_count": 2,
   "id": "94c3311b-2470-4c14-93dc-35d2017cc0b0",
   "metadata": {},
   "outputs": [],
   "source": [
    "clock_radius = 10\n",
    "with BuildSketch() as minute_indicator:\n",
    "    with BuildLine() as outline:\n",
    "        l1 = CenterArc((0, 0), clock_radius * 0.975, 0.75, 4.5)\n",
    "        l2 = CenterArc((0, 0), clock_radius * 0.925, 0.75, 4.5)\n",
    "        Line(l1 @ 0, l2 @ 0)\n",
    "        Line(l1 @ 1, l2 @ 1)\n",
    "    make_face()\n",
    "    fillet(minute_indicator.vertices(), radius=clock_radius * 0.01)\n",
    "\n",
    "with BuildSketch() as clock_face:\n",
    "    Circle(clock_radius)\n",
    "    with PolarLocations(0, 60):\n",
    "        add(minute_indicator.sketch, mode=Mode.SUBTRACT)\n",
    "    with PolarLocations(clock_radius * 0.875, 12):\n",
    "        SlotOverall(clock_radius * 0.05, clock_radius * 0.025, mode=Mode.SUBTRACT)\n",
    "    for hour in range(1, 13):\n",
    "        with PolarLocations(clock_radius * 0.75, 1, -hour * 30 + 90, 360, rotate=False):\n",
    "            Text(\n",
    "                str(hour),\n",
    "                font_size=clock_radius * 0.175,\n",
    "                font_style=FontStyle.BOLD,\n",
    "                mode=Mode.SUBTRACT,\n",
    "            )"
   ]
  },
  {
   "cell_type": "code",
   "execution_count": 3,
   "id": "9154dae9-087e-4fb4-945b-a8ed09e89b5c",
   "metadata": {},
   "outputs": [],
   "source": [
    "clock_face"
   ]
  },
  {
   "cell_type": "code",
   "execution_count": 4,
   "id": "d054867f-5077-4ca7-8aed-c16c46626c2c",
   "metadata": {},
   "outputs": [],
   "source": [
    "densa = 7800/1e6 #carbon steel density g/mm^3\n",
    "densb = 2700/1e6 #aluminum alloy\n",
    "densc = 1020/1e6 #ABS\n",
    "ms = Mode.SUBTRACT"
   ]
  },
  {
   "cell_type": "code",
   "execution_count": 5,
   "id": "7dda1ed0-36e5-44cb-be6d-59c6035a44fc",
   "metadata": {},
   "outputs": [],
   "source": [
    "with BuildPart() as p:\n",
    "    with BuildSketch(Plane.XZ) as s2:\n",
    "        SlotOverall((315-85-60)*2,160,rotation=90)\n",
    "        split(bisect_by=Plane.XZ,keep=Keep.BOTTOM)\n",
    "    extrude(amount=140/2,both=True)\n",
    "    with BuildSketch(Plane.YZ) as s3:\n",
    "        RectangleRounded(140,170*2,20,align=(Align.CENTER,Align.MIN))\n",
    "    extrude(amount=160,both=True,mode=Mode.INTERSECT)\n",
    "    with BuildSketch(Plane.YZ) as s4:\n",
    "        with Locations((0,15)):\n",
    "            RectangleRounded(140-30,170*2,5,align=(Align.CENTER,Align.MIN))\n",
    "    extrude(amount=160,both=True,mode=ms)\n",
    "    with BuildSketch(Plane.XZ) as s:\n",
    "        SlotCenterToCenter(85*2,120,rotation=90)\n",
    "        split(bisect_by=Plane.XZ)\n",
    "    extrude(amount=80/2,both=True)\n",
    "    with BuildSketch(Plane.XZ) as s5:\n",
    "        with Locations((0,170/2)):\n",
    "            Circle(60/2)\n",
    "    extrude(amount=200,both=True,mode=ms)\n",
    "    with BuildSketch(Plane.XZ) as s6:\n",
    "        with Locations((0,-85)):\n",
    "            Circle(60/2)\n",
    "    extrude(amount=50,both=True)\n",
    "    with BuildSketch(Plane.XZ) as s7:\n",
    "        with Locations((0,-85)):\n",
    "            Circle(40/2)\n",
    "    extrude(amount=50,both=True,mode=ms)"
   ]
  },
  {
   "cell_type": "code",
   "execution_count": 6,
   "id": "f7d138b6-3783-4470-826f-c6b378435339",
   "metadata": {},
   "outputs": [],
   "source": [
    "p"
   ]
  },
  {
   "cell_type": "code",
   "execution_count": 7,
   "id": "aea50d2f-3ae2-4db4-8945-c1818000b000",
   "metadata": {},
   "outputs": [],
   "source": [
    "with BuildPart() as p1:\n",
    "    with BuildSketch() as sk1:\n",
    "        RectangleRounded(75, 80, 4)\n",
    "        with GridLocations(45, 50, 2, 2):\n",
    "            Circle(4.5 / 2, mode=Mode.SUBTRACT)\n",
    "    extrude(amount=-5)\n",
    "\n",
    "    with BuildPart() as clamp_connector:\n",
    "        with BuildSketch(Plane.YZ.offset(29 / 2)) as clamp_connector_sk:\n",
    "            t = Trapezoid(60, 20, 45, 45, align=(Align.CENTER, Align.MIN))\n",
    "        extrude(amount=4, both=True)\n",
    "        mirror(about=Plane.YZ)\n",
    "\n",
    "    with BuildPart() as bridge:\n",
    "        with BuildSketch(Plane.YZ) as clamp_bridge_sk:\n",
    "            top_edge: Edge = t.edges().sort_by(Axis.Y)[-1]\n",
    "            bottom_edge: Edge = t.edges().sort_by(Axis.Y)[0]\n",
    "            with BuildLine() as clamp_bridge_line:\n",
    "                Polyline(\n",
    "                    bottom_edge @ 0,\n",
    "                    top_edge @ 1,\n",
    "                    top_edge @ 0,\n",
    "                    top_edge @ 0 - (0, 10),\n",
    "                    top_edge @ 1 - (0, 10),\n",
    "                    ((top_edge @ 1).X, (bottom_edge @ 0).Y),\n",
    "                    close=True,\n",
    "                )\n",
    "            make_face()\n",
    "        extrude(amount=29 / 2, both=True)"
   ]
  },
  {
   "cell_type": "code",
   "execution_count": 8,
   "id": "b770d38f-dfd0-4efa-a24f-b04f73711fe5",
   "metadata": {},
   "outputs": [],
   "source": [
    "p1"
   ]
  },
  {
   "cell_type": "code",
   "execution_count": 9,
   "id": "41aa93ac-51e2-49cb-a8aa-19c358a585a1",
   "metadata": {},
   "outputs": [],
   "source": [
    "with BuildPart() as p2:\n",
    "    with BuildSketch() as s2:\n",
    "        with Locations((80,0)):\n",
    "            Circle(25)\n",
    "        split(bisect_by=Plane.YZ.offset(78-14/2))\n",
    "        with Locations((78,75/2)):\n",
    "            Circle(14)\n",
    "        mirror(about=Plane.XZ)\n",
    "        make_hull()\n",
    "    extrude(amount=15)\n",
    "    with Locations((78,75/2,15),(78,-75/2,15)):\n",
    "        CounterBoreHole(9/2,16/2,5)\n",
    "with BuildPart() as p:\n",
    "    with BuildSketch(Plane.XZ) as s:\n",
    "        with BuildLine(Plane.XZ) as l:\n",
    "            l1 = Line((0,0),(80+25,0))\n",
    "            l2 = Line(l1@1,l1@1+(0,27))\n",
    "            l3 = Line(l1@0,l1@0+(-25,0))\n",
    "            l4 = Line(l3@1,l3@1+(0,70))\n",
    "            l5 = Line(l4@1,l4@1+(50,0))\n",
    "            l6 = PolarLine(l5@1,-32,-90+15,length_mode=LengthMode.VERTICAL)\n",
    "            l7 = JernArc(l6@1,l6%1,15,90-15)\n",
    "            l8 = Line(l7@1,l2@1)\n",
    "        make_face()\n",
    "    extrude(amount=25,both=True)\n",
    "    with BuildSketch() as s3:\n",
    "        with Locations((80/2,0)):\n",
    "            SlotCenterToCenter(80,25*2)\n",
    "    extrude(amount=70,mode=Mode.INTERSECT)\n",
    "    add(p2.part,rotation=(0,0,.1)) #arbitrary rotation to fix errors\n",
    "    with Locations(Plane.XY.offset(70)):\n",
    "        CounterBoreHole(25/2,35/2,10)\n",
    "    with BuildSketch(Plane.XZ) as s4:\n",
    "        with BuildLine(Plane.XZ) as l2:\n",
    "            m6 = PolarLine(l5@1,-32,-90+15,length_mode=LengthMode.VERTICAL)\n",
    "            m7 = JernArc(m6@1,m6%1,15,90-15)\n",
    "            m8 = Line(m6@0,m6@0+(7,0))\n",
    "            m9 = PolarLine(m8@1,-7-6.765,-90+15,length_mode=LengthMode.VERTICAL)\n",
    "            m10 = JernArc(m9@1,m6%1,30,90-15)\n",
    "            m11 = Line(m10@1,(80+25-30,34))\n",
    "            m12 = Line(m11@1,m11@1+(0,-7))\n",
    "            m13 = Line(m12@1,m7@1)\n",
    "        make_face()\n",
    "    extrude(amount=3,both=True)\n",
    "    with BuildSketch() as s5:\n",
    "        Rectangle(50,6,align=(Align.MAX,Align.CENTER))\n",
    "    extrude(amount=70,mode=ms)"
   ]
  },
  {
   "cell_type": "code",
   "execution_count": 10,
   "id": "8e987dae-cc4b-4dde-9e6d-2942d9e780b5",
   "metadata": {},
   "outputs": [],
   "source": [
    "p"
   ]
  },
  {
   "cell_type": "code",
   "execution_count": 11,
   "id": "e4e68427-4c94-4f20-9b65-cfaafca56c59",
   "metadata": {},
   "outputs": [],
   "source": [
    "with BuildPart() as p:\n",
    "    with BuildSketch() as s:\n",
    "        Circle(60)\n",
    "        split(bisect_by=Plane.XZ,keep=Keep.BOTTOM)\n",
    "        Rectangle(200-60,10,align=(Align.MIN,Align.MIN))\n",
    "        make_hull(mode=Mode.REPLACE)\n",
    "    extrude(amount=30)\n",
    "    Cylinder(81/2,31*2,mode=Mode.SUBTRACT)\n",
    "    with BuildSketch(Plane.YZ) as s2:\n",
    "        with Locations((0,30/2)):\n",
    "            SlotCenterToCenter(24*2,12)\n",
    "    extrude(amount=200,both=True,mode=ms)\n",
    "    with Locations((70,13)):\n",
    "        Cylinder(18/2,30*2,mode=ms)\n",
    "    with PolarLocations(50,3,45):\n",
    "        Cylinder(10/2,30*2,mode=ms)\n",
    "    split(bisect_by=Plane.XY.rotated((6,0,0)))\n",
    "    split(bisect_by=Plane.XY.offset(30).rotated((-6,0,0)),keep=Keep.BOTTOM)"
   ]
  },
  {
   "cell_type": "code",
   "execution_count": 12,
   "id": "f99ace59-c4ce-4c2d-8302-920a3955b0bd",
   "metadata": {},
   "outputs": [],
   "source": [
    "p"
   ]
  },
  {
   "cell_type": "code",
   "execution_count": 13,
   "id": "f94f1651-f206-4f0c-b4aa-4782655ad621",
   "metadata": {},
   "outputs": [],
   "source": [
    "with BuildPart() as p:\n",
    "    with BuildSketch() as s:\n",
    "        Circle(60)\n",
    "        split(bisect_by=Plane.XZ,keep=Keep.BOTTOM)\n",
    "        Rectangle(200-60,10,align=(Align.MIN,Align.MIN))\n",
    "        make_hull(mode=Mode.REPLACE)\n",
    "    extrude(amount=30)\n",
    "    Cylinder(81/2,31*2,mode=Mode.SUBTRACT)\n",
    "    with BuildSketch(Plane.YZ) as s2:\n",
    "        with Locations((0,30/2)):\n",
    "            SlotCenterToCenter(24*2,12)\n",
    "    extrude(amount=200,both=True,mode=ms)\n",
    "    with Locations((70,13)):\n",
    "        Cylinder(18/2,30*2,mode=ms)\n",
    "    with PolarLocations(50,3,45):\n",
    "        Cylinder(10/2,30*2,mode=ms)\n",
    "    split(bisect_by=Plane.XY.rotated((6,0,0)))\n",
    "    split(bisect_by=Plane.XY.offset(30).rotated((-6,0,0)),keep=Keep.BOTTOM)      "
   ]
  }
 ],
 "metadata": {
  "kernelspec": {
   "display_name": "Python 3 (ipykernel)",
   "language": "python",
   "name": "python3"
  },
  "language_info": {
   "codemirror_mode": {
    "name": "ipython",
    "version": 3
   },
   "file_extension": ".py",
   "mimetype": "text/x-python",
   "name": "python",
   "nbconvert_exporter": "python",
   "pygments_lexer": "ipython3",
   "version": "3.11.3"
  }
 },
 "nbformat": 4,
 "nbformat_minor": 5
}
