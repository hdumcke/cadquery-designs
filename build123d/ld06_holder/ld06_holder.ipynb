{
 "cells": [
  {
   "cell_type": "code",
   "execution_count": 1,
   "id": "bf71bba6-b631-4c5e-a8e5-0e91ab78a528",
   "metadata": {},
   "outputs": [
    {
     "name": "stdout",
     "output_type": "stream",
     "text": [
      "Overwriting auto display for cadquery Workplane and Shape\n"
     ]
    }
   ],
   "source": [
    "from jupyter_cadquery import show, open_viewer, set_defaults\n",
    "import cadquery as cq\n",
    "from build123d import *\n",
    "cv = open_viewer(\"Build123d\", cad_width=770, glass=True)\n",
    "set_defaults(edge_accuracy=0.0001)"
   ]
  },
  {
   "cell_type": "code",
   "execution_count": 124,
   "id": "f13ef488-02f9-4b01-8047-025ff6092da1",
   "metadata": {},
   "outputs": [],
   "source": [
    "length, thickness = 38.5, 2.0\n",
    "button_square = 17\n",
    "button_gap = 5\n",
    "screw_distance = 47.6\n",
    "screw_position = 8.5\n",
    "screw_support_plate = 5.0\n",
    "screw_hole = 2.0\n",
    "raster_size = 2.54\n",
    "\n",
    "with BuildPart() as ld06:\n",
    "    with BuildSketch() as ld06_sk:\n",
    "        Rectangle(length, length)\n",
    "        with Locations((-(length + button_square + 2*button_gap) / 2, 0)):\n",
    "            Rectangle(button_square + 2*button_gap, button_square)\n",
    "        fillet(ld06_sk.vertices(), radius=length / 20)\n",
    "        with Locations((screw_position, screw_distance / 2)):\n",
    "            Circle(screw_support_plate)\n",
    "            with Locations((0, -screw_support_plate)):\n",
    "                Rectangle(2 * screw_support_plate, 2 * screw_support_plate)\n",
    "    extrude(amount=thickness)\n",
    "    fillet(ld06.edges().group_by(Axis.Z)[-1], radius=0.5)\n",
    "    with Locations((screw_position, screw_distance / 2)):\n",
    "        Hole(screw_hole / 2)\n",
    "    mirror()    \n",
    "    with Locations((-13.8, -13.8)):\n",
    "        Cylinder(radius=4.8 / 2, height=11.5, align=(Align.CENTER, Align.CENTER, Align.MIN))\n",
    "        Hole(radius=0.5)\n",
    "    with Locations((13.8, 13.8)):\n",
    "        Cylinder(radius=4.8 / 2, height=11.5, align=(Align.CENTER, Align.CENTER, Align.MIN))\n",
    "        Hole(radius=0.5)\n",
    "    with BuildSketch() as ld06_sk1:\n",
    "        with Locations((-(length + button_square + 3*button_gap) / 2, 0)):\n",
    "            Rectangle(button_square - 1.0 + button_gap / 2, button_square - 1.0)\n",
    "    extrude(amount=2*thickness)\n",
    "    with Locations((-(length + button_square + 3*button_gap + 5*raster_size) / 2, raster_size)):\n",
    "        Hole(radius=0.8)\n",
    "    with Locations((-(length + button_square + 3*button_gap + 5*raster_size) / 2, -raster_size)):\n",
    "        Hole(radius=0.8)\n",
    "    with Locations((-(length + button_square + 3*button_gap - 5*raster_size) / 2, raster_size)):\n",
    "        Hole(radius=0.8)\n",
    "    with Locations((-(length + button_square + 3*button_gap - 5*raster_size) / 2, -raster_size)):\n",
    "        Hole(radius=0.8)\n",
    "        \n",
    "ld06"
   ]
  },
  {
   "cell_type": "code",
   "execution_count": 125,
   "id": "4814c545-4866-4af4-ac3f-d2e948b028ee",
   "metadata": {},
   "outputs": [
    {
     "data": {
      "text/plain": [
       "True"
      ]
     },
     "execution_count": 125,
     "metadata": {},
     "output_type": "execute_result"
    }
   ],
   "source": [
    "ld06.part.export_stl('ld06_holder.stl')"
   ]
  }
 ],
 "metadata": {
  "kernelspec": {
   "display_name": "Python 3 (ipykernel)",
   "language": "python",
   "name": "python3"
  },
  "language_info": {
   "codemirror_mode": {
    "name": "ipython",
    "version": 3
   },
   "file_extension": ".py",
   "mimetype": "text/x-python",
   "name": "python",
   "nbconvert_exporter": "python",
   "pygments_lexer": "ipython3",
   "version": "3.11.3"
  }
 },
 "nbformat": 4,
 "nbformat_minor": 5
}
