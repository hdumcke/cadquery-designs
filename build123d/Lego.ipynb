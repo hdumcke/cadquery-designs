{
 "cells": [
  {
   "cell_type": "code",
   "execution_count": 83,
   "id": "8dc1f61a-6a3b-4d94-ad29-f001acda6a78",
   "metadata": {},
   "outputs": [],
   "source": [
    "from jupyter_cadquery import show, open_viewer, set_defaults\n",
    "import cadquery as cq\n",
    "from build123d import *\n",
    "cv = open_viewer(\"Build123d\", cad_width=770, glass=True)\n",
    "set_defaults(edge_accuracy=0.0001)"
   ]
  },
  {
   "cell_type": "code",
   "execution_count": 130,
   "id": "3a9d4073-b18f-4785-8336-c17c2b720185",
   "metadata": {},
   "outputs": [],
   "source": [
    "pip_count = 6\n",
    "\n",
    "lego_unit_size = 8\n",
    "pip_height = 1.8\n",
    "pip_diameter = 4.8\n",
    "block_length = lego_unit_size * pip_count\n",
    "block_width = 16\n",
    "base_height = 9.6\n",
    "block_height = base_height + pip_height\n",
    "support_outer_diameter = 6.5\n",
    "support_inner_diameter = 4.8\n",
    "ridge_width = 0.6\n",
    "ridge_depth = 0.3\n",
    "wall_thickness = 1.2\n",
    "fontsz = 10.0\n",
    "fontht = 1.0\n",
    "text = \"Léo\""
   ]
  },
  {
   "cell_type": "code",
   "execution_count": 131,
   "id": "a1c11d07-7858-4ed8-9681-dbbd8a5e9b0c",
   "metadata": {},
   "outputs": [],
   "source": [
    "with BuildPart() as lego:\n",
    "    # Draw the bottom of the block\n",
    "    with BuildSketch() as plan:\n",
    "        # Start with a Rectangle the size of the block\n",
    "        perimeter = Rectangle(width=block_length, height=block_width)\n",
    "        # Subtract an offset to create the block walls\n",
    "        offset(\n",
    "            perimeter,\n",
    "            -wall_thickness,\n",
    "            kind=Kind.INTERSECTION,\n",
    "            mode=Mode.SUBTRACT,\n",
    "        )\n",
    "        # Add a grid of lengthwise and widthwise bars\n",
    "        with GridLocations(x_spacing=0, y_spacing=lego_unit_size, x_count=1, y_count=2):\n",
    "            Rectangle(width=block_length, height=ridge_width)\n",
    "        with GridLocations(lego_unit_size, 0, pip_count, 1):\n",
    "            Rectangle(width=ridge_width, height=block_width)\n",
    "        Rectangle(\n",
    "            block_length - 2 * (wall_thickness + ridge_depth),\n",
    "            block_width - 2 * (wall_thickness + ridge_depth),\n",
    "            mode=Mode.SUBTRACT,\n",
    "        )\n",
    "        # Add a row of hollow circles to the center\n",
    "        with GridLocations(\n",
    "            x_spacing=lego_unit_size, y_spacing=0, x_count=pip_count - 1, y_count=1\n",
    "        ):\n",
    "            Circle(radius=support_outer_diameter / 2)\n",
    "            Circle(radius=support_inner_diameter / 2, mode=Mode.SUBTRACT)\n",
    "    # Extrude this base sketch to the height of the walls\n",
    "    extrude(amount=base_height - wall_thickness)\n",
    "    # Create a box on the top of the walls\n",
    "    with Locations((0, 0, lego.vertices().sort_by(Axis.Z)[-1].Z)):\n",
    "        # Create the top of the block\n",
    "        Box(\n",
    "            length=block_length,\n",
    "            width=block_width,\n",
    "            height=wall_thickness,\n",
    "            align=(Align.CENTER, Align.CENTER, Align.MIN),\n",
    "        )\n",
    "    # Create a workplane on the top of the block\n",
    "    with BuildPart(lego.faces().sort_by(Axis.Z)[-1]):\n",
    "        # Create a grid of pips\n",
    "        with GridLocations(lego_unit_size, lego_unit_size, pip_count, 2):\n",
    "            Cylinder(\n",
    "                radius=pip_diameter / 2,\n",
    "                height=pip_height,\n",
    "                align=(Align.CENTER, Align.CENTER, Align.MIN),\n",
    "            )\n",
    "    txt_face = lego.faces().sort_by(Axis.Y)[0]\n",
    "    with BuildSketch(txt_face) as txt_sk:\n",
    "        Text(text, font_size=fontsz, align=(Align.CENTER, Align.CENTER))\n",
    "    extrude(amount=fontht)\n",
    "        \n",
    "lego        "
   ]
  },
  {
   "cell_type": "code",
   "execution_count": 132,
   "id": "ce097299-2a7e-4b23-a338-edd613c85014",
   "metadata": {},
   "outputs": [
    {
     "data": {
      "text/plain": [
       "True"
      ]
     },
     "execution_count": 132,
     "metadata": {},
     "output_type": "execute_result"
    }
   ],
   "source": [
    "lego.part.export_stl('lego.stl')"
   ]
  }
 ],
 "metadata": {
  "kernelspec": {
   "display_name": "Python 3 (ipykernel)",
   "language": "python",
   "name": "python3"
  },
  "language_info": {
   "codemirror_mode": {
    "name": "ipython",
    "version": 3
   },
   "file_extension": ".py",
   "mimetype": "text/x-python",
   "name": "python",
   "nbconvert_exporter": "python",
   "pygments_lexer": "ipython3",
   "version": "3.11.3"
  }
 },
 "nbformat": 4,
 "nbformat_minor": 5
}
